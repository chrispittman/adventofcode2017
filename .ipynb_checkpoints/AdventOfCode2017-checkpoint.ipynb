{
 "cells": [
  {
   "cell_type": "markdown",
   "metadata": {},
   "source": [
    "## Utility functions"
   ]
  },
  {
   "cell_type": "code",
   "execution_count": 1,
   "metadata": {},
   "outputs": [],
   "source": [
    "import collections\n",
    "\n",
    "def parse_input(filename, line_fn=None):\n",
    "    with open(filename) as f:\n",
    "        content = f.readlines()\n",
    "        content = [x.strip() for x in content]\n",
    "        if (line_fn):\n",
    "            content = list(map(lambda line: line_fn(line), content))\n",
    "        return content\n",
    "    \n",
    "def split_integers(line):\n",
    "    return list(map(lambda el: int(el), line.split()))"
   ]
  },
  {
   "cell_type": "markdown",
   "metadata": {},
   "source": [
    "## Part 1 A\n",
    "\n",
    "The captcha requires you to review a sequence of digits (your puzzle input) and find the sum of all digits that match the next digit in the list. The list is circular, so the digit after the last digit is the first digit in the list.\n",
    "\n",
    "For example:\n",
    "\n",
    "    1122 produces a sum of 3 (1 + 2) because the first digit (1) matches the second digit and the third digit (2) matches the fourth digit.\n",
    "    1111 produces 4 because each digit (all 1) matches the next.\n",
    "    1234 produces 0 because no digit matches the next.\n",
    "    91212129 produces 9 because the only digit that matches the next one is the last digit, 9.\n"
   ]
  },
  {
   "cell_type": "code",
   "execution_count": 20,
   "metadata": {},
   "outputs": [
    {
     "data": {
      "text/plain": [
       "1144"
      ]
     },
     "execution_count": 20,
     "metadata": {},
     "output_type": "execute_result"
    }
   ],
   "source": [
    "def day1_captcha(captcha):\n",
    "    sum = 0\n",
    "    for i in range(len(captcha)):\n",
    "        this_char = captcha[i]\n",
    "        last_char = captcha[i-1]\n",
    "        if this_char == last_char:\n",
    "            sum += int(this_char)\n",
    "    return sum\n",
    "\n",
    "assert day1_captcha(\"1122\") == 3, day1_captcha(\"1122\")\n",
    "assert day1_captcha(\"1111\") == 4, day1_captcha(\"1111\")\n",
    "assert day1_captcha(\"1234\") == 0, day1_captcha(\"1234\")\n",
    "assert day1_captcha(\"91212129\") == 9, day1_captcha(\"91212129\")\n",
    "\n",
    "day1_captcha( parse_input('input_day01a')[0] )"
   ]
  },
  {
   "cell_type": "markdown",
   "metadata": {},
   "source": [
    "## Part 1 B\n",
    "\n",
    "Now, instead of considering the next digit, it wants you to consider the digit halfway around the circular list. That is, if your list contains 10 items, only include a digit in your sum if the digit 10/2 = 5 steps forward matches it. Fortunately, your list has an even number of elements.\n",
    "\n",
    "For example:\n",
    "\n",
    "    1212 produces 6: the list contains 4 items, and all four digits match the digit 2 items ahead.\n",
    "    1221 produces 0, because every comparison is between a 1 and a 2.\n",
    "    123425 produces 4, because both 2s match each other, but no other digit has a match.\n",
    "    123123 produces 12.\n",
    "    12131415 produces 4.\n"
   ]
  },
  {
   "cell_type": "code",
   "execution_count": 15,
   "metadata": {},
   "outputs": [
    {
     "data": {
      "text/plain": [
       "1194"
      ]
     },
     "execution_count": 15,
     "metadata": {},
     "output_type": "execute_result"
    }
   ],
   "source": [
    "def day1_captcha(captcha):\n",
    "    sum = 0\n",
    "    for i in range(len(captcha)):\n",
    "        this_char = captcha[i]\n",
    "        last_char = captcha[i- int(len(captcha)/2) ]\n",
    "        if this_char == last_char:\n",
    "            sum += int(this_char)\n",
    "    return sum\n",
    "\n",
    "assert day1_captcha(\"1212\") == 6, day1_captcha(\"1212\")\n",
    "assert day1_captcha(\"1221\") == 0, day1_captcha(\"1221\")\n",
    "assert day1_captcha(\"123425\") == 4, day1_captcha(\"123425\")\n",
    "assert day1_captcha(\"123123\") == 12, day1_captcha(\"123123\")\n",
    "assert day1_captcha(\"12131415\") == 4, day1_captcha(\"12131415\")\n",
    "\n",
    "day1_captcha( parse_input('input_day01a')[0] )"
   ]
  },
  {
   "cell_type": "markdown",
   "metadata": {},
   "source": [
    "## Part 2A\n",
    "\n",
    "For each row, determine the difference between the largest value and the smallest value; the checksum is the sum of all of these differences.\n",
    "\n",
    "For example, given the following spreadsheet:\n",
    "\n",
    "5 1 9 5\n",
    "7 5 3\n",
    "2 4 6 8\n",
    "\n",
    "    The first row's largest and smallest values are 9 and 1, and their difference is 8.\n",
    "    The second row's largest and smallest values are 7 and 3, and their difference is 4.\n",
    "    The third row's difference is 6.\n",
    "\n",
    "In this example, the spreadsheet's checksum would be 8 + 4 + 6 = 18."
   ]
  },
  {
   "cell_type": "code",
   "execution_count": 45,
   "metadata": {},
   "outputs": [
    {
     "data": {
      "text/plain": [
       "41919"
      ]
     },
     "execution_count": 45,
     "metadata": {},
     "output_type": "execute_result"
    }
   ],
   "source": [
    "def day2_checksum(sheet):\n",
    "    return sum(list(map(lambda line: max(line)-min(line), sheet)))\n",
    "\n",
    "test_checksum = day2_checksum([[5,1,9,5],[7,5,3],[2,4,6,8]])\n",
    "assert test_checksum == 18, test_checksum\n",
    "\n",
    "day2_checksum( parse_input('input_day02a', lambda line: split_integers(line)) )\n"
   ]
  },
  {
   "cell_type": "markdown",
   "metadata": {},
   "source": [
    "## Part 2B\n",
    "\n",
    "It sounds like the goal is to find the only two numbers in each row where one evenly divides the other - that is, where the result of the division operation is a whole number. They would like you to find those numbers on each line, divide them, and add up each line's result.\n",
    "\n",
    "For example, given the following spreadsheet:\n",
    "\n",
    "5 9 2 8\n",
    "9 4 7 3\n",
    "3 8 6 5\n",
    "\n",
    "    In the first row, the only two numbers that evenly divide are 8 and 2; the result of this division is 4.\n",
    "    In the second row, the two numbers are 9 and 3; the result is 3.\n",
    "    In the third row, the result is 2.\n",
    "\n",
    "In this example, the sum of the results would be 4 + 3 + 2 = 9."
   ]
  },
  {
   "cell_type": "code",
   "execution_count": 68,
   "metadata": {},
   "outputs": [
    {
     "data": {
      "text/plain": [
       "303"
      ]
     },
     "execution_count": 68,
     "metadata": {},
     "output_type": "execute_result"
    }
   ],
   "source": [
    "def day2_checksum(sheet):\n",
    "    def calc_line(line):\n",
    "        line = sorted(line)\n",
    "        for i in range(len(line)):\n",
    "            for j in range(i):\n",
    "                if line[i] % line[j] == 0:\n",
    "                    return int(line[i]/line[j])\n",
    "    return sum(list(map(lambda line: calc_line(line), sheet)))\n",
    "\n",
    "test_checksum = day2_checksum([[5,9,2,8],[9,4,7,3],[3,8,6,5]])\n",
    "assert test_checksum == 9, test_checksum\n",
    "\n",
    "day2_checksum( parse_input('input_day02a', lambda line: split_integers(line)) )"
   ]
  },
  {
   "cell_type": "markdown",
   "metadata": {},
   "source": [
    "## Part 3A\n",
    "\n",
    "You come across an experimental new kind of memory stored on an infinite two-dimensional grid.\n",
    "\n",
    "Each square on the grid is allocated in a spiral pattern starting at a location marked 1 and then counting up while spiraling outward. For example, the first few squares are allocated like this:\n",
    "\n",
    "17  16  15  14  13\n",
    "18   5   4   3  12\n",
    "19   6   1   2  11\n",
    "20   7   8   9  10\n",
    "21  22  23---> ...\n",
    "\n",
    "While this is very space-efficient (no squares are skipped), requested data must be carried back to square 1 (the location of the only access port for this memory system) by programs that can only move up, down, left, or right. They always take the shortest path: the Manhattan Distance between the location of the data and square 1.\n",
    "\n",
    "For example:\n",
    "\n",
    "    Data from square 1 is carried 0 steps, since it's at the access port.\n",
    "    Data from square 12 is carried 3 steps, such as: down, left, left.\n",
    "    Data from square 23 is carried only 2 steps: up twice.\n",
    "    Data from square 1024 must be carried 31 steps.\n",
    "\n",
    "How many steps are required to carry the data from the square identified in your puzzle input all the way to the access port?\n",
    "\n",
    "Your puzzle input is 277678."
   ]
  },
  {
   "cell_type": "code",
   "execution_count": 5,
   "metadata": {},
   "outputs": [
    {
     "data": {
      "text/plain": [
       "475.0"
      ]
     },
     "execution_count": 5,
     "metadata": {},
     "output_type": "execute_result"
    }
   ],
   "source": [
    "import math\n",
    "\n",
    "# OEIS A214526\n",
    "def get_x_y(n):\n",
    "  sr = int(math.sqrt(n-1))\n",
    "  sr = sr-1+(sr&1)\n",
    "  rm = n-sr*sr\n",
    "  d = (sr+1)/2\n",
    "  if rm<=sr+1:\n",
    "    return -d+rm,d\n",
    "  if rm<=sr*2+2:\n",
    "    return d,d-(rm-(sr+1))\n",
    "  if rm<=sr*3+3:\n",
    "    return d-(rm-(sr*2+2)),-d\n",
    "  return -d,-d+rm-(sr*3+3) \n",
    "\n",
    "def day3_distance(n):\n",
    "  xy = get_x_y(n)\n",
    "  return abs(xy[0]) + abs(xy[1])\n",
    "\n",
    "assert day3_distance(1) == 0, day3_distance(1)\n",
    "assert day3_distance(12) == 3, day3_distance(12)\n",
    "assert day3_distance(23) == 2, day3_distance(23)\n",
    "assert day3_distance(1024) == 31, day3_distance(1024)\n",
    "\n",
    "day3_distance(277678)"
   ]
  },
  {
   "cell_type": "markdown",
   "metadata": {},
   "source": [
    "## Part 3B\n",
    "\n",
    "As a stress test on the system, the programs here clear the grid and then store the value 1 in square 1. Then, in the same allocation order as shown above, they store the sum of the values in all adjacent squares, including diagonals.\n",
    "\n",
    "So, the first few squares' values are chosen as follows:\n",
    "\n",
    "    Square 1 starts with the value 1.\n",
    "    Square 2 has only one adjacent filled square (with value 1), so it also stores 1.\n",
    "    Square 3 has both of the above squares as neighbors and stores the sum of their values, 2.\n",
    "    Square 4 has all three of the aforementioned squares as neighbors and stores the sum of their values, 4.\n",
    "    Square 5 only has the first and fourth squares as neighbors, so it gets the value 5.\n",
    "\n",
    "Once a square is written, its value does not change. Therefore, the first few squares would receive the following values:\n",
    "\n",
    "147  142  133  122   59\n",
    "304    5    4    2   57\n",
    "330   10    1    1   54\n",
    "351   11   23   25   26\n",
    "362  747  806--->   ...\n",
    "\n",
    "What is the first value written that is larger than your puzzle input?\n",
    "\n",
    "Your puzzle input is still 277678."
   ]
  },
  {
   "cell_type": "code",
   "execution_count": 7,
   "metadata": {},
   "outputs": [],
   "source": [
    "# Meh, boring.  This is just https://oeis.org/A141481/b141481.txt and I'm not rewriting it."
   ]
  },
  {
   "cell_type": "markdown",
   "metadata": {},
   "source": [
    "## Part 4A\n",
    "\n",
    "A passphrase consists of a series of words (lowercase letters) separated by spaces.  To ensure security, a valid passphrase must contain no duplicate words.\n",
    "\n",
    "For example:\n",
    "\n",
    "    aa bb cc dd ee is valid.\n",
    "    aa bb cc dd aa is not valid - the word aa appears more than once.\n",
    "    aa bb cc dd aaa is valid - aa and aaa count as different words.\n",
    "\n",
    "The system's full passphrase list is available as your puzzle input. How many passphrases are valid?"
   ]
  },
  {
   "cell_type": "code",
   "execution_count": 15,
   "metadata": {},
   "outputs": [
    {
     "data": {
      "text/plain": [
       "466"
      ]
     },
     "execution_count": 15,
     "metadata": {},
     "output_type": "execute_result"
    }
   ],
   "source": [
    "def day4_passphrase_is_valid(passphrase):\n",
    "    return len(set(passphrase)) == len(passphrase)\n",
    "\n",
    "assert day4_passphrase_is_valid(['aa','bb','cc','dd','ee'])\n",
    "assert not day4_passphrase_is_valid(['aa','bb','cc','dd','aa'])\n",
    "assert day4_passphrase_is_valid(['aa','bb','cc','dd','aaa'])\n",
    "\n",
    "valid_passphrases = list(filter(lambda p: day4_passphrase_is_valid(p), parse_input('input_day04a', lambda line: line.split()) ))\n",
    "len(valid_passphrases)"
   ]
  },
  {
   "cell_type": "markdown",
   "metadata": {},
   "source": [
    "## Part 4B\n",
    "\n",
    "Now, a valid passphrase must contain no two words that are anagrams of each other - that is, a passphrase is invalid if any word's letters can be rearranged to form any other word in the passphrase.\n",
    "\n",
    "For example:\n",
    "\n",
    "    abcde fghij is a valid passphrase.\n",
    "    abcde xyz ecdab is not valid - the letters from the third word can be rearranged to form the first word.\n",
    "    a ab abc abd abf abj is a valid passphrase, because all letters need to be used when forming another word.\n",
    "    iiii oiii ooii oooi oooo is valid.\n",
    "    oiii ioii iioi iiio is not valid - any of these words can be rearranged to form any other word.\n",
    "\n",
    "Under this new system policy, how many passphrases are valid?"
   ]
  },
  {
   "cell_type": "code",
   "execution_count": 18,
   "metadata": {},
   "outputs": [
    {
     "data": {
      "text/plain": [
       "251"
      ]
     },
     "execution_count": 18,
     "metadata": {},
     "output_type": "execute_result"
    }
   ],
   "source": [
    "def day4_passphrase_is_valid(passphrase):\n",
    "    passphrase = list(map(lambda word: ''.join(sorted(word)), passphrase))\n",
    "    return len(set(passphrase)) == len(passphrase)\n",
    "\n",
    "assert day4_passphrase_is_valid(['abcde','fghij'])\n",
    "assert not day4_passphrase_is_valid(['abcde','xyz','ecdab'])\n",
    "\n",
    "valid_passphrases = list(filter(lambda p: day4_passphrase_is_valid(p), parse_input('input_day04a', lambda line: line.split()) ))\n",
    "len(valid_passphrases)"
   ]
  },
  {
   "cell_type": "markdown",
   "metadata": {},
   "source": [
    "## Part 5A\n",
    "\n",
    "The message includes a list of the offsets for each jump. Jumps are relative: -1 moves to the previous instruction, and 2 skips the next one. Start at the first instruction in the list. The goal is to follow the jumps until one leads outside the list.\n",
    "\n",
    "In addition, these instructions are a little strange; after each jump, the offset of that instruction increases by 1. So, if you come across an offset of 3, you would move three instructions forward, but change it to a 4 for the next time it is encountered.\n",
    "\n",
    "For example, consider the following list of jump offsets:\n",
    "\n",
    "0\n",
    "3\n",
    "0\n",
    "1\n",
    "-3\n",
    "\n",
    "Positive jumps (\"forward\") move downward; negative jumps move upward. For legibility in this example, these offset values will be written all on one line, with the current instruction marked in parentheses. The following steps would be taken before an exit is found:\n",
    "\n",
    "    (0) 3  0  1  -3  - before we have taken any steps.\n",
    "    (1) 3  0  1  -3  - jump with offset 0 (that is, don't jump at all). Fortunately, the instruction is then incremented to 1.\n",
    "     2 (3) 0  1  -3  - step forward because of the instruction we just modified. The first instruction is incremented again, now to 2.\n",
    "     2  4  0  1 (-3) - jump all the way to the end; leave a 4 behind.\n",
    "     2 (4) 0  1  -2  - go back to where we just were; increment -3 to -2.\n",
    "     2  5  0  1  -2  - jump 4 steps forward, escaping the maze.\n",
    "\n",
    "In this example, the exit is reached in 5 steps."
   ]
  },
  {
   "cell_type": "code",
   "execution_count": 8,
   "metadata": {},
   "outputs": [
    {
     "data": {
      "text/plain": [
       "373160"
      ]
     },
     "execution_count": 8,
     "metadata": {},
     "output_type": "execute_result"
    }
   ],
   "source": [
    "def day5_findexit(instrs):\n",
    "    posn = 0\n",
    "    time = 0\n",
    "    while posn in range(len(instrs)):\n",
    "        time += 1\n",
    "        cur_jump = instrs[posn]\n",
    "        instrs[posn] += 1\n",
    "        posn += cur_jump\n",
    "    return time\n",
    "\n",
    "assert day5_findexit([0,3,0,1,-3])==5, day5_findexit([0,3,0,1,-3])\n",
    "\n",
    "day5_findexit(parse_input('input_day05a', lambda line: int(line)))"
   ]
  },
  {
   "cell_type": "markdown",
   "metadata": {},
   "source": [
    "## Part 5B\n",
    "\n",
    "Now, the jumps are even stranger: after each jump, if the offset was three or more, instead decrease it by 1. Otherwise, increase it by 1 as before.\n",
    "\n",
    "Using this rule with the above example, the process now takes 10 steps, and the offset values after finding the exit are left as 2 3 2 3 -1.\n",
    "\n",
    "How many steps does it now take to reach the exit?"
   ]
  },
  {
   "cell_type": "code",
   "execution_count": 9,
   "metadata": {},
   "outputs": [
    {
     "data": {
      "text/plain": [
       "26395586"
      ]
     },
     "execution_count": 9,
     "metadata": {},
     "output_type": "execute_result"
    }
   ],
   "source": [
    "def day5_findexit(instrs):\n",
    "    posn = 0\n",
    "    time = 0\n",
    "    while posn in range(len(instrs)):\n",
    "        time += 1\n",
    "        cur_jump = instrs[posn]\n",
    "        if cur_jump >= 3:\n",
    "            instrs[posn] -= 1\n",
    "        else:\n",
    "            instrs[posn] += 1\n",
    "        posn += cur_jump\n",
    "    return time\n",
    "\n",
    "assert day5_findexit([0,3,0,1,-3])==10, day5_findexit([0,3,0,1,-3])\n",
    "\n",
    "day5_findexit(parse_input('input_day05a', lambda line: int(line)))"
   ]
  },
  {
   "cell_type": "markdown",
   "metadata": {},
   "source": [
    "## Day 7A\n",
    "\n"
   ]
  },
  {
   "cell_type": "code",
   "execution_count": 14,
   "metadata": {},
   "outputs": [
    {
     "name": "stdout",
     "output_type": "stream",
     "text": [
      "xegshds\n"
     ]
    }
   ],
   "source": [
    "nodes = []\n",
    "leaf_nodes = []\n",
    "for data in parse_input('input_day07a', lambda line: line.split(' -> ')):\n",
    "    nodes.append(data[0].split()[0])\n",
    "    if len(data)>1:\n",
    "        for leaf_node in data[1].split(', '):\n",
    "            leaf_nodes.append(leaf_node)\n",
    "\n",
    "for node in nodes:\n",
    "    if node not in leaf_nodes:\n",
    "        print (node)"
   ]
  },
  {
   "cell_type": "markdown",
   "metadata": {},
   "source": [
    "## Day 7B"
   ]
  },
  {
   "cell_type": "code",
   "execution_count": 56,
   "metadata": {},
   "outputs": [
    {
     "data": {
      "text/plain": [
       "[{'leaf_nodes': [], 'name': 'guipj', 'weight': 2911},\n",
       " {'leaf_nodes': ['dvoul', 'ecxayrz'], 'name': 'nsvan', 'weight': 3162},\n",
       " {'leaf_nodes': ['sovfoi', 'vdqpuon', 'ghtdnrx'],\n",
       "  'name': 'gefrwix',\n",
       "  'weight': 99},\n",
       " {'leaf_nodes': [], 'name': 'gbcfg', 'weight': 1462},\n",
       " {'leaf_nodes': [], 'name': 'wqudy', 'weight': 1414},\n",
       " {'leaf_nodes': [], 'name': 'fuunnks', 'weight': 1078},\n",
       " {'leaf_nodes': [], 'name': 'yvbgs', 'weight': 1078},\n",
       " {'leaf_nodes': ['gwsceo', 'ucocdl', 'hdqow', 'fjqccm', 'oxvqjeh'],\n",
       "  'name': 'gqiczm',\n",
       "  'weight': 61},\n",
       " {'leaf_nodes': ['enlfaa', 'ymnichj', 'tuefd', 'zhkmnxk', 'vcllnn'],\n",
       "  'name': 'etsxvmj',\n",
       "  'weight': 896},\n",
       " {'leaf_nodes': [], 'name': 'yxfysz', 'weight': 978},\n",
       " {'leaf_nodes': [], 'name': 'qsiqu', 'weight': 1913},\n",
       " {'leaf_nodes': [], 'name': 'wifvw', 'weight': 1121},\n",
       " {'leaf_nodes': [], 'name': 'cxfvbz', 'weight': 1392},\n",
       " {'leaf_nodes': [], 'name': 'rphgr', 'weight': 1839},\n",
       " {'leaf_nodes': [], 'name': 'lhagpts', 'weight': 1634},\n",
       " {'leaf_nodes': [], 'name': 'pqxpguz', 'weight': 1414},\n",
       " {'leaf_nodes': ['ppeumu', 'yuvpdk', 'kzimilx', 'wbwyvyu'],\n",
       "  'name': 'abfkpur',\n",
       "  'weight': 2589},\n",
       " {'leaf_nodes': [], 'name': 'vpvab', 'weight': 1720},\n",
       " {'leaf_nodes': [], 'name': 'tymahpb', 'weight': 1977},\n",
       " {'leaf_nodes': [], 'name': 'xgdyhva', 'weight': 1634},\n",
       " {'leaf_nodes': [], 'name': 'ghtdnrx', 'weight': 1963},\n",
       " {'leaf_nodes': ['upqkbq', 'hsdkmdv', 'ggxgmci', 'owjvny', 'gqiczm'],\n",
       "  'name': 'xegshds',\n",
       "  'weight': 53},\n",
       " {'leaf_nodes': [], 'name': 'pwamvw', 'weight': 1295},\n",
       " {'leaf_nodes': [], 'name': 'nifptxs', 'weight': 3177},\n",
       " {'leaf_nodes': [], 'name': 'yujhec', 'weight': 1295},\n",
       " {'leaf_nodes': ['lplhe', 'sznyfy', 'tjrecaq'],\n",
       "  'name': 'lgdbaig',\n",
       "  'weight': 4976},\n",
       " {'leaf_nodes': [], 'name': 'wgtmwjd', 'weight': 1222},\n",
       " {'leaf_nodes': [], 'name': 'sixlpmr', 'weight': 1295},\n",
       " {'leaf_nodes': [], 'name': 'mnslyf', 'weight': 1462},\n",
       " {'leaf_nodes': ['nsvan', 'qcbfbfz', 'anygv', 'gefrwix', 'kkeafw', 'jepbpw'],\n",
       "  'name': 'ggxgmci',\n",
       "  'weight': 66063},\n",
       " {'leaf_nodes': [], 'name': 'abeinmv', 'weight': 2911},\n",
       " {'leaf_nodes': ['rvkalxi'], 'name': 'unhnq', 'weight': 8754},\n",
       " {'leaf_nodes': [], 'name': 'nwand', 'weight': 1121},\n",
       " {'leaf_nodes': [], 'name': 'fnefss', 'weight': 978},\n",
       " {'leaf_nodes': ['tghfe', 'ybzqi', 'fabacam'],\n",
       "  'name': 'anygv',\n",
       "  'weight': 3678},\n",
       " {'leaf_nodes': [], 'name': 'qrunwtc', 'weight': 1720},\n",
       " {'leaf_nodes': [], 'name': 'hvdafm', 'weight': 1634},\n",
       " {'leaf_nodes': [], 'name': 'uycyz', 'weight': 3177},\n",
       " {'leaf_nodes': [], 'name': 'macpvga', 'weight': 1709},\n",
       " {'leaf_nodes': ['sixlpmr',\n",
       "   'yujhec',\n",
       "   'uryldo',\n",
       "   'bgltopb',\n",
       "   'tpreug',\n",
       "   'gwwjmo',\n",
       "   'pwamvw'],\n",
       "  'name': 'ucocdl',\n",
       "  'weight': 11321},\n",
       " {'leaf_nodes': [], 'name': 'nemomq', 'weight': 2106},\n",
       " {'leaf_nodes': [], 'name': 'ybzqi', 'weight': 770},\n",
       " {'leaf_nodes': [], 'name': 'xmufp', 'weight': 2106},\n",
       " {'leaf_nodes': [], 'name': 'vuhehz', 'weight': 1222},\n",
       " {'leaf_nodes': ['lgdbaig', 'yskay', 'uvftw'],\n",
       "  'name': 'owjvny',\n",
       "  'weight': 68748},\n",
       " {'leaf_nodes': [], 'name': 'moxxiw', 'weight': 2106},\n",
       " {'leaf_nodes': [], 'name': 'tjrecaq', 'weight': 2035},\n",
       " {'leaf_nodes': ['vidgimw', 'fnefss', 'clmkbr', 'yxfysz', 'latvopy'],\n",
       "  'name': 'eynrs',\n",
       "  'weight': 5931},\n",
       " {'leaf_nodes': [], 'name': 'ktiuc', 'weight': 2911},\n",
       " {'leaf_nodes': [], 'name': 'asymmuf', 'weight': 1839},\n",
       " {'leaf_nodes': [], 'name': 'lplhe', 'weight': 2035},\n",
       " {'leaf_nodes': [], 'name': 'iscnnvh', 'weight': 1414},\n",
       " {'leaf_nodes': ['gbcfg', 'uodmc', 'mnslyf'],\n",
       "  'name': 'kkeafw',\n",
       "  'weight': 1602},\n",
       " {'leaf_nodes': ['dfnak',\n",
       "   'szsny',\n",
       "   'ehkrs',\n",
       "   'eynrs',\n",
       "   'cbpsyx',\n",
       "   'bbixr',\n",
       "   'zsckv'],\n",
       "  'name': 'upqkbq',\n",
       "  'weight': 26244},\n",
       " {'leaf_nodes': [], 'name': 'snhlzkk', 'weight': 1121},\n",
       " {'leaf_nodes': [], 'name': 'zdjxp', 'weight': 1709},\n",
       " {'leaf_nodes': [], 'name': 'dvoul', 'weight': 1413},\n",
       " {'leaf_nodes': [], 'name': 'uulig', 'weight': 1709},\n",
       " {'leaf_nodes': ['asymmuf', 'gnjkpwf', 'tlmnwl', 'iyekup', 'rphgr', 'mfohmwu'],\n",
       "  'name': 'yskay',\n",
       "  'weight': 47},\n",
       " {'leaf_nodes': [], 'name': 'vdqpuon', 'weight': 1963},\n",
       " {'leaf_nodes': [], 'name': 'ymnichj', 'weight': 1889},\n",
       " {'leaf_nodes': ['yvbgs', 'lcepfsw', 'exfeog', 'fuunnks'],\n",
       "  'name': 'szsny',\n",
       "  'weight': 6509},\n",
       " {'leaf_nodes': [], 'name': 'kzimilx', 'weight': 1938},\n",
       " {'leaf_nodes': [], 'name': 'usbjyly', 'weight': 2162},\n",
       " {'leaf_nodes': [], 'name': 'ygbphkw', 'weight': 2911},\n",
       " {'leaf_nodes': [], 'name': 'lhqbgck', 'weight': 1720},\n",
       " {'leaf_nodes': [], 'name': 'rsttknu', 'weight': 1392},\n",
       " {'leaf_nodes': ['tymahpb', 'ehazo'], 'name': 'fjqccm', 'weight': 16432},\n",
       " {'leaf_nodes': [], 'name': 'yuvpdk', 'weight': 1938},\n",
       " {'leaf_nodes': [], 'name': 'cdvscgo', 'weight': 1634},\n",
       " {'leaf_nodes': [], 'name': 'sznyfy', 'weight': 2035},\n",
       " {'leaf_nodes': [], 'name': 'xdxhzm', 'weight': 1913},\n",
       " {'leaf_nodes': [], 'name': 'qdzbmhn', 'weight': 2162},\n",
       " {'leaf_nodes': [], 'name': 'tpreug', 'weight': 1295},\n",
       " {'leaf_nodes': [], 'name': 'clmkbr', 'weight': 978},\n",
       " {'leaf_nodes': [], 'name': 'tghfe', 'weight': 770},\n",
       " {'leaf_nodes': [], 'name': 'oxvqjeh', 'weight': 20386},\n",
       " {'leaf_nodes': [], 'name': 'sagihe', 'weight': 1720},\n",
       " {'leaf_nodes': ['uulig', 'macpvga', 'zdjxp', 'vjboadc'],\n",
       "  'name': 'hdqow',\n",
       "  'weight': 13550},\n",
       " {'leaf_nodes': [], 'name': 'vjboadc', 'weight': 1709},\n",
       " {'leaf_nodes': [], 'name': 'latvopy', 'weight': 978},\n",
       " {'leaf_nodes': ['qrunwtc', 'bumibye', 'lhqbgck', 'sagihe', 'vpvab'],\n",
       "  'name': 'crsjegg',\n",
       "  'weight': 1741},\n",
       " {'leaf_nodes': [], 'name': 'fabacam', 'weight': 776},\n",
       " {'leaf_nodes': ['hvdafm', 'xgdyhva', 'vvndbk', 'gwkfb', 'cdvscgo', 'lhagpts'],\n",
       "  'name': 'uvftw',\n",
       "  'weight': 1277},\n",
       " {'leaf_nodes': [], 'name': 'enlfaa', 'weight': 1889},\n",
       " {'leaf_nodes': [], 'name': 'wbwyvyu', 'weight': 1938},\n",
       " {'leaf_nodes': [], 'name': 'lcepfsw', 'weight': 1078},\n",
       " {'leaf_nodes': [], 'name': 'bumibye', 'weight': 1720},\n",
       " {'leaf_nodes': [], 'name': 'rvkalxi', 'weight': 1587},\n",
       " {'leaf_nodes': ['nifptxs', 'uycyz'], 'name': 'cbpsyx', 'weight': 4467},\n",
       " {'leaf_nodes': [], 'name': 'lqylns', 'weight': 1222},\n",
       " {'leaf_nodes': [], 'name': 'sovfoi', 'weight': 1963},\n",
       " {'leaf_nodes': ['ptwedjj', 'xdxhzm', 'qsiqu'],\n",
       "  'name': 'qfqnrvt',\n",
       "  'weight': 4602},\n",
       " {'leaf_nodes': ['vuhehz', 'lqylns', 'wgtmwjd'],\n",
       "  'name': 'qcbfbfz',\n",
       "  'weight': 2322},\n",
       " {'leaf_nodes': [], 'name': 'ulvmck', 'weight': 2162},\n",
       " {'leaf_nodes': [], 'name': 'bgltopb', 'weight': 1295},\n",
       " {'leaf_nodes': [], 'name': 'xzjcf', 'weight': 2911},\n",
       " {'leaf_nodes': ['wifvw', 'nwand', 'tyjrdme', 'snhlzkk'],\n",
       "  'name': 'jepbpw',\n",
       "  'weight': 1504},\n",
       " {'leaf_nodes': [], 'name': 'exfeog', 'weight': 1078},\n",
       " {'leaf_nodes': [], 'name': 'vidgimw', 'weight': 978},\n",
       " {'leaf_nodes': [], 'name': 'gwkfb', 'weight': 1634},\n",
       " {'leaf_nodes': [], 'name': 'vvndbk', 'weight': 1634},\n",
       " {'leaf_nodes': [], 'name': 'ecxayrz', 'weight': 1413},\n",
       " {'leaf_nodes': [], 'name': 'ppeumu', 'weight': 1938},\n",
       " {'leaf_nodes': ['xmufp', 'moxxiw', 'nemomq'],\n",
       "  'name': 'bbixr',\n",
       "  'weight': 4503},\n",
       " {'leaf_nodes': [], 'name': 'ptwedjj', 'weight': 1913},\n",
       " {'leaf_nodes': ['ulvmck', 'dhujegl', 'fngfnuz', 'qdzbmhn', 'usbjyly'],\n",
       "  'name': 'ehkrs',\n",
       "  'weight': 11},\n",
       " {'leaf_nodes': [], 'name': 'dhujegl', 'weight': 2162},\n",
       " {'leaf_nodes': [], 'name': 'gnjkpwf', 'weight': 1839},\n",
       " {'leaf_nodes': [], 'name': 'tyjrdme', 'weight': 1121},\n",
       " {'leaf_nodes': [], 'name': 'iovan', 'weight': 2911},\n",
       " {'leaf_nodes': [], 'name': 'uodmc', 'weight': 1462},\n",
       " {'leaf_nodes': ['unhnq', 'crsjegg', 'abfkpur', 'qfqnrvt', 'etsxvmj'],\n",
       "  'name': 'hsdkmdv',\n",
       "  'weight': 50286},\n",
       " {'leaf_nodes': ['iscnnvh', 'pqxpguz', 'wqudy'],\n",
       "  'name': 'zsckv',\n",
       "  'weight': 6579},\n",
       " {'leaf_nodes': [], 'name': 'ehazo', 'weight': 1977},\n",
       " {'leaf_nodes': [], 'name': 'zhkmnxk', 'weight': 1889},\n",
       " {'leaf_nodes': [], 'name': 'vcllnn', 'weight': 1889},\n",
       " {'leaf_nodes': [], 'name': 'gwwjmo', 'weight': 1295},\n",
       " {'leaf_nodes': ['guipj', 'xzjcf', 'ktiuc', 'iovan', 'ygbphkw', 'abeinmv'],\n",
       "  'name': 'gwsceo',\n",
       "  'weight': 2920},\n",
       " {'leaf_nodes': [], 'name': 'fngfnuz', 'weight': 2162},\n",
       " {'leaf_nodes': ['cxfvbz', 'rsttknu'], 'name': 'dfnak', 'weight': 8037},\n",
       " {'leaf_nodes': [], 'name': 'mfohmwu', 'weight': 1839},\n",
       " {'leaf_nodes': [], 'name': 'iyekup', 'weight': 1839},\n",
       " {'leaf_nodes': [], 'name': 'uryldo', 'weight': 1295},\n",
       " {'leaf_nodes': [], 'name': 'tuefd', 'weight': 1889},\n",
       " {'leaf_nodes': [], 'name': 'tlmnwl', 'weight': 1839}]"
      ]
     },
     "execution_count": 56,
     "metadata": {},
     "output_type": "execute_result"
    }
   ],
   "source": [
    "nodes = []\n",
    "for data in parse_input('input_day07a', lambda line: line.split(' -> ')):\n",
    "    node_name = data[0].split()[0]\n",
    "    node_weight = int(data[0].split()[1][1:-1])\n",
    "    new_node = {'name':node_name,'weight':node_weight, 'leaf_nodes':[]}\n",
    "    if len(data)>1:\n",
    "        for leaf_node in data[1].split(', '):\n",
    "            new_node['leaf_nodes'].append(leaf_node)\n",
    "    nodes.append(new_node)\n",
    "    \n",
    "while (len(nodes)>400):\n",
    "    leaf_nodes = [n for n in nodes if len(n['leaf_nodes'])==0]\n",
    "    nodes = [n for n in nodes if len(n['leaf_nodes'])>0]\n",
    "    for leaf_node in leaf_nodes:\n",
    "        for node in nodes:\n",
    "            if leaf_node['name'] in node['leaf_nodes']:\n",
    "                node['leaf_nodes'].remove(leaf_node['name'])\n",
    "                node['weight'] += leaf_node['weight']\n",
    "\n",
    "nodes"
   ]
  },
  {
   "cell_type": "markdown",
   "metadata": {},
   "source": [
    "## Part 8A\n",
    "\n",
    "The instructions look like this:\n",
    "\n",
    "b inc 5 if a > 1\n",
    "a inc 1 if b < 5\n",
    "c dec -10 if a >= 1\n",
    "c inc -20 if c == 10\n",
    "\n",
    "These instructions would be processed as follows:\n",
    "\n",
    "    Because a starts at 0, it is not greater than 1, and so b is not modified.\n",
    "    a is increased by 1 (to 1) because b is less than 5 (it is 0).\n",
    "    c is decreased by -10 (to 10) because a is now greater than or equal to 1 (it is 1).\n",
    "    c is increased by -20 (to -10) because c is equal to 10.\n",
    "\n",
    "After this process, the largest value in any register is 1.\n",
    "\n",
    "You might also encounter <= (less than or equal to) or != (not equal to). However, the CPU doesn't have the bandwidth to tell you what all the registers are named, and leaves that to you to determine.\n",
    "\n",
    "What is the largest value in any register after completing the instructions in your puzzle input?"
   ]
  },
  {
   "cell_type": "code",
   "execution_count": 17,
   "metadata": {},
   "outputs": [
    {
     "data": {
      "text/plain": [
       "3612"
      ]
     },
     "execution_count": 17,
     "metadata": {},
     "output_type": "execute_result"
    }
   ],
   "source": [
    "def eval_cond(registers, reg, op, val):\n",
    "    if op == \">\":\n",
    "        return registers[reg] > val\n",
    "    elif op == \"<\":\n",
    "        return registers[reg] < val\n",
    "    elif op == \">=\":\n",
    "        return registers[reg] >= val\n",
    "    elif op == \"<=\":\n",
    "        return registers[reg] <= val\n",
    "    elif op == \"==\":\n",
    "        return registers[reg] == val\n",
    "    elif op == \"!=\":\n",
    "        return registers[reg] != val\n",
    "    else:\n",
    "        raise Exception(\"cond op: \"+op)\n",
    "\n",
    "def day8_calc_registers(insts):\n",
    "    registers = {}\n",
    "    for inst in insts:\n",
    "        [cmd, cond] = inst.split(' if ')\n",
    "\n",
    "        [cond_reg, cond_op, cond_val] = cond.split(\" \")\n",
    "        cond_val = int(cond_val)\n",
    "        if not cond_reg in registers.keys():\n",
    "            registers[cond_reg] = 0\n",
    "        if eval_cond(registers, cond_reg, cond_op, cond_val):\n",
    "            [cmd_reg, cmd_op, cmd_val] = cmd.split(\" \")\n",
    "            cmd_val = int(cmd_val)\n",
    "            if not cmd_reg in registers.keys():\n",
    "                registers[cmd_reg] = 0\n",
    "            if cmd_op == 'dec':\n",
    "                registers[cmd_reg] -= cmd_val\n",
    "            else:\n",
    "                registers[cmd_reg] += cmd_val\n",
    "    return registers\n",
    "\n",
    "def day8_calc_max(insts):\n",
    "    regs = day8_calc_registers(insts)\n",
    "    return max(list(regs.values()))\n",
    "\n",
    "day8_calc_max([\"b inc 5 if a > 1\",\"a inc 1 if b < 5\",\"c dec -10 if a >= 1\",\"c inc -20 if c == 10\"])\n",
    "\n",
    "day8_calc_max(parse_input('input_day08a'))"
   ]
  },
  {
   "cell_type": "markdown",
   "metadata": {},
   "source": [
    "## Part 8B\n",
    "\n",
    "To be safe, the CPU also needs to know the highest value held in any register during this process so that it can decide how much memory to allocate to these operations. For example, in the above instructions, the highest value ever held was 10 (in register c after the third instruction was evaluated)."
   ]
  },
  {
   "cell_type": "code",
   "execution_count": 19,
   "metadata": {},
   "outputs": [
    {
     "data": {
      "text/plain": [
       "3818"
      ]
     },
     "execution_count": 19,
     "metadata": {},
     "output_type": "execute_result"
    }
   ],
   "source": [
    "def day8_calc_highest(insts):\n",
    "    max_reg_val = 0\n",
    "    registers = {}\n",
    "    for inst in insts:\n",
    "        [cmd, cond] = inst.split(' if ')\n",
    "\n",
    "        [cond_reg, cond_op, cond_val] = cond.split(\" \")\n",
    "        cond_val = int(cond_val)\n",
    "        if not cond_reg in registers.keys():\n",
    "            registers[cond_reg] = 0\n",
    "        if eval_cond(registers, cond_reg, cond_op, cond_val):\n",
    "            [cmd_reg, cmd_op, cmd_val] = cmd.split(\" \")\n",
    "            cmd_val = int(cmd_val)\n",
    "            if not cmd_reg in registers.keys():\n",
    "                registers[cmd_reg] = 0\n",
    "            if cmd_op == 'dec':\n",
    "                registers[cmd_reg] -= cmd_val\n",
    "            else:\n",
    "                registers[cmd_reg] += cmd_val\n",
    "            if (registers[cmd_reg] > max_reg_val):\n",
    "                max_reg_val = registers[cmd_reg]\n",
    "    return max_reg_val\n",
    "\n",
    "day8_calc_highest([\"b inc 5 if a > 1\",\"a inc 1 if b < 5\",\"c dec -10 if a >= 1\",\"c inc -20 if c == 10\"])\n",
    "\n",
    "day8_calc_highest(parse_input('input_day08a'))"
   ]
  },
  {
   "cell_type": "markdown",
   "metadata": {},
   "source": [
    "## Part 9A\n",
    "\n",
    "\n",
    "    {}, score of 1.\n",
    "    {{{}}}, score of 1 + 2 + 3 = 6.\n",
    "    {{},{}}, score of 1 + 2 + 2 = 5.\n",
    "    {{{},{},{{}}}}, score of 1 + 2 + 3 + 3 + 3 + 4 = 16.\n",
    "    {<a>,<a>,<a>,<a>}, score of 1.\n",
    "    {{<ab>},{<ab>},{<ab>},{<ab>}}, score of 1 + 2 + 2 + 2 + 2 = 9.\n",
    "    {{<!!>},{<!!>},{<!!>},{<!!>}}, score of 1 + 2 + 2 + 2 + 2 = 9.\n",
    "    {{<a!>},{<a!>},{<a!>},{<ab>}}, score of 1 + 2 = 3.\n"
   ]
  },
  {
   "cell_type": "code",
   "execution_count": 6,
   "metadata": {},
   "outputs": [
    {
     "data": {
      "text/plain": [
       "11347"
      ]
     },
     "execution_count": 6,
     "metadata": {},
     "output_type": "execute_result"
    }
   ],
   "source": [
    "def day9_score(str):\n",
    "    score = 0\n",
    "    depth = 0\n",
    "    canceling = False\n",
    "    in_garbage = False\n",
    "    for char in str:\n",
    "        if canceling:\n",
    "            canceling = False\n",
    "        elif char==\"!\" and in_garbage:\n",
    "            canceling = True\n",
    "        elif char==\"<\":\n",
    "            in_garbage = True\n",
    "        elif char==\">\":\n",
    "            in_garbage = False\n",
    "        elif char==\"{\" and not in_garbage:\n",
    "            depth = depth+1\n",
    "        elif char==\"}\" and not in_garbage:\n",
    "            score += depth\n",
    "            depth -= 1\n",
    "    return score\n",
    "\n",
    "assert day9_score(\"{}\")==1, day9_score(\"{}\")\n",
    "assert day9_score(\"{{{}}}\")==6, day9_score(\"{{{}}}\")\n",
    "assert day9_score(\"{{},{}}\")==5, day9_score(\"{{},{}}\")\n",
    "assert day9_score(\"{{{},{},{{}}}}\")==16, day9_score(\"{{{},{},{{}}}}\")\n",
    "assert day9_score(\"{<a>,<a>,<a>,<a>}\")==1, day9_score(\"{<a>,<a>,<a>,<a>}\")\n",
    "assert day9_score(\"{{<ab>},{<ab>},{<ab>},{<ab>}}\")==9, day9_score(\"{{<ab>},{<ab>},{<ab>},{<ab>}}\")\n",
    "assert day9_score(\"{{<!!>},{<!!>},{<!!>},{<!!>}}\")==9, day9_score(\"{{<!!>},{<!!>},{<!!>},{<!!>}}\")\n",
    "assert day9_score(\"{{<a!>},{<a!>},{<a!>},{<ab>}}\")==3, day9_score(\"{{<a!>},{<a!>},{<a!>},{<ab>}}\")\n",
    "\n",
    "day9_score(parse_input('input_day09a')[0])"
   ]
  },
  {
   "cell_type": "markdown",
   "metadata": {},
   "source": [
    "## Part 9B\n",
    "\n",
    "Now, you're ready to remove the garbage.\n",
    "\n",
    "To prove you've removed it, you need to count all of the characters within the garbage. The leading and trailing < and > don't count, nor do any canceled characters or the ! doing the canceling.\n",
    "\n",
    "    <>, 0 characters.\n",
    "    <random characters>, 17 characters.\n",
    "    <<<<>, 3 characters.\n",
    "    <{!>}>, 2 characters.\n",
    "    <!!>, 0 characters.\n",
    "    <!!!>>, 0 characters.\n",
    "    <{o\"i!a,<{i<a>, 10 characters.\n",
    "\n",
    "How many non-canceled characters are within the garbage in your puzzle input?"
   ]
  },
  {
   "cell_type": "code",
   "execution_count": 11,
   "metadata": {},
   "outputs": [
    {
     "data": {
      "text/plain": [
       "5404"
      ]
     },
     "execution_count": 11,
     "metadata": {},
     "output_type": "execute_result"
    }
   ],
   "source": [
    "def day9_count(str):\n",
    "    count = 0\n",
    "    canceling = False\n",
    "    in_garbage = False\n",
    "    for char in str:\n",
    "        if canceling:\n",
    "            canceling = False\n",
    "        elif char==\"!\" and in_garbage:\n",
    "            canceling = True\n",
    "        elif char==\">\":\n",
    "            in_garbage = False\n",
    "        elif in_garbage:\n",
    "            count += 1\n",
    "        elif char==\"<\":\n",
    "            in_garbage = True\n",
    "    return count\n",
    "\n",
    "assert day9_count(\"<>\")==0\n",
    "assert day9_count(\"<random characters>\")==17\n",
    "assert day9_count(\"<<<<>\")==3, day9_count(\"<<<<>\")\n",
    "assert day9_count(\"<{!>}>\")==2\n",
    "assert day9_count(\"<!!>\")==0\n",
    "assert day9_count(\"<!!!>>\")==0\n",
    "assert day9_count(\"<{o\\\"i!a,<{i<a>\")==10\n",
    "                             \n",
    "day9_count(parse_input('input_day09a')[0])"
   ]
  },
  {
   "cell_type": "markdown",
   "metadata": {},
   "source": [
    "## Day 10A\n",
    "\n",
    "Suppose we instead only had a circular list containing five elements, 0, 1, 2, 3, 4, and were given input lengths of 3, 4, 1, 5.\n",
    "\n",
    "    The list begins as [0] 1 2 3 4 (where square brackets indicate the current position).\n",
    "    The first length, 3, selects ([0] 1 2) 3 4 (where parentheses indicate the sublist to be reversed).\n",
    "    After reversing that section (0 1 2 into 2 1 0), we get ([2] 1 0) 3 4.\n",
    "    Then, the current position moves forward by the length, 3, plus the skip size, 0: 2 1 0 [3] 4. Finally, the skip size increases to 1.\n",
    "\n",
    "    The second length, 4, selects a section which wraps: 2 1) 0 ([3] 4.\n",
    "    The sublist 3 4 2 1 is reversed to form 1 2 4 3: 4 3) 0 ([1] 2.\n",
    "    The current position moves forward by the length plus the skip size, a total of 5, causing it not to move because it wraps around: 4 3 0 [1] 2. The skip size increases to 2.\n",
    "\n",
    "    The third length, 1, selects a sublist of a single element, and so reversing it has no effect.\n",
    "    The current position moves forward by the length (1) plus the skip size (2): 4 [3] 0 1 2. The skip size increases to 3.\n",
    "\n",
    "    The fourth length, 5, selects every element starting with the second: 4) ([3] 0 1 2. Reversing this sublist (3 0 1 2 4 into 4 2 1 0 3) produces: 3) ([4] 2 1 0.\n",
    "    Finally, the current position moves forward by 8: 3 4 2 1 [0]. The skip size increases to 4.\n"
   ]
  },
  {
   "cell_type": "code",
   "execution_count": 31,
   "metadata": {},
   "outputs": [
    {
     "data": {
      "text/plain": [
       "[233,\n",
       " 200,\n",
       " 199,\n",
       " 198,\n",
       " 197,\n",
       " 196,\n",
       " 195,\n",
       " 194,\n",
       " 193,\n",
       " 192,\n",
       " 191,\n",
       " 146,\n",
       " 145,\n",
       " 144,\n",
       " 143,\n",
       " 142,\n",
       " 141,\n",
       " 140,\n",
       " 139,\n",
       " 138,\n",
       " 23,\n",
       " 164,\n",
       " 163,\n",
       " 165,\n",
       " 179,\n",
       " 178,\n",
       " 177,\n",
       " 176,\n",
       " 175,\n",
       " 174,\n",
       " 173,\n",
       " 172,\n",
       " 171,\n",
       " 169,\n",
       " 170,\n",
       " 168,\n",
       " 167,\n",
       " 166,\n",
       " 180,\n",
       " 181,\n",
       " 182,\n",
       " 21,\n",
       " 20,\n",
       " 19,\n",
       " 18,\n",
       " 0,\n",
       " 156,\n",
       " 157,\n",
       " 158,\n",
       " 213,\n",
       " 212,\n",
       " 211,\n",
       " 210,\n",
       " 209,\n",
       " 208,\n",
       " 207,\n",
       " 206,\n",
       " 205,\n",
       " 204,\n",
       " 203,\n",
       " 202,\n",
       " 201,\n",
       " 234,\n",
       " 235,\n",
       " 236,\n",
       " 237,\n",
       " 238,\n",
       " 239,\n",
       " 240,\n",
       " 241,\n",
       " 242,\n",
       " 243,\n",
       " 244,\n",
       " 125,\n",
       " 124,\n",
       " 123,\n",
       " 122,\n",
       " 121,\n",
       " 120,\n",
       " 119,\n",
       " 118,\n",
       " 117,\n",
       " 116,\n",
       " 115,\n",
       " 114,\n",
       " 113,\n",
       " 112,\n",
       " 111,\n",
       " 110,\n",
       " 109,\n",
       " 108,\n",
       " 107,\n",
       " 106,\n",
       " 105,\n",
       " 104,\n",
       " 103,\n",
       " 102,\n",
       " 101,\n",
       " 100,\n",
       " 99,\n",
       " 98,\n",
       " 97,\n",
       " 96,\n",
       " 95,\n",
       " 94,\n",
       " 93,\n",
       " 92,\n",
       " 91,\n",
       " 90,\n",
       " 89,\n",
       " 88,\n",
       " 87,\n",
       " 86,\n",
       " 85,\n",
       " 84,\n",
       " 83,\n",
       " 82,\n",
       " 81,\n",
       " 80,\n",
       " 79,\n",
       " 78,\n",
       " 77,\n",
       " 76,\n",
       " 75,\n",
       " 74,\n",
       " 73,\n",
       " 72,\n",
       " 71,\n",
       " 70,\n",
       " 69,\n",
       " 68,\n",
       " 67,\n",
       " 66,\n",
       " 65,\n",
       " 64,\n",
       " 63,\n",
       " 62,\n",
       " 61,\n",
       " 60,\n",
       " 59,\n",
       " 58,\n",
       " 57,\n",
       " 56,\n",
       " 55,\n",
       " 54,\n",
       " 53,\n",
       " 52,\n",
       " 51,\n",
       " 50,\n",
       " 49,\n",
       " 48,\n",
       " 47,\n",
       " 46,\n",
       " 45,\n",
       " 44,\n",
       " 43,\n",
       " 42,\n",
       " 41,\n",
       " 40,\n",
       " 39,\n",
       " 38,\n",
       " 37,\n",
       " 36,\n",
       " 35,\n",
       " 34,\n",
       " 33,\n",
       " 32,\n",
       " 31,\n",
       " 30,\n",
       " 29,\n",
       " 28,\n",
       " 27,\n",
       " 26,\n",
       " 25,\n",
       " 24,\n",
       " 162,\n",
       " 161,\n",
       " 160,\n",
       " 137,\n",
       " 136,\n",
       " 135,\n",
       " 134,\n",
       " 133,\n",
       " 132,\n",
       " 131,\n",
       " 130,\n",
       " 129,\n",
       " 128,\n",
       " 127,\n",
       " 126,\n",
       " 245,\n",
       " 246,\n",
       " 247,\n",
       " 248,\n",
       " 249,\n",
       " 250,\n",
       " 251,\n",
       " 252,\n",
       " 253,\n",
       " 254,\n",
       " 255,\n",
       " 17,\n",
       " 16,\n",
       " 15,\n",
       " 14,\n",
       " 13,\n",
       " 12,\n",
       " 11,\n",
       " 10,\n",
       " 9,\n",
       " 8,\n",
       " 7,\n",
       " 6,\n",
       " 5,\n",
       " 4,\n",
       " 3,\n",
       " 2,\n",
       " 1,\n",
       " 155,\n",
       " 154,\n",
       " 153,\n",
       " 152,\n",
       " 151,\n",
       " 150,\n",
       " 149,\n",
       " 148,\n",
       " 147,\n",
       " 190,\n",
       " 189,\n",
       " 188,\n",
       " 187,\n",
       " 186,\n",
       " 185,\n",
       " 184,\n",
       " 183,\n",
       " 22,\n",
       " 159,\n",
       " 214,\n",
       " 215,\n",
       " 216,\n",
       " 217,\n",
       " 218,\n",
       " 219,\n",
       " 220,\n",
       " 221,\n",
       " 222,\n",
       " 223,\n",
       " 224,\n",
       " 225,\n",
       " 226,\n",
       " 227,\n",
       " 228,\n",
       " 229,\n",
       " 230,\n",
       " 231,\n",
       " 232]"
      ]
     },
     "execution_count": 31,
     "metadata": {},
     "output_type": "execute_result"
    }
   ],
   "source": [
    "def list_rotate(l, n):\n",
    "    d = collections.deque(l)\n",
    "    d.rotate(-n)\n",
    "    return list(d)\n",
    "\n",
    "def day10_twist(len, data):\n",
    "    vals = list(range(len))\n",
    "    cur_posn = 0\n",
    "    skip_size = 0\n",
    "    for sublist_len in data:\n",
    "        vals = list_rotate(vals,cur_posn)\n",
    "        vals[:sublist_len] = vals[:sublist_len][::-1]\n",
    "        vals = list_rotate(vals,-cur_posn)\n",
    "        \n",
    "        cur_posn += sublist_len + skip_size\n",
    "        skip_size += 1\n",
    "    return vals\n",
    "    \n",
    "assert day10_twist(5,[3]) == [2,1,0,3,4], day10_twist(5,[3])\n",
    "assert day10_twist(5,[3,4]) == [4,3,0,1,2], day10_twist(5,[3,4])\n",
    "assert day10_twist(5,[3,4,1]) == [4,3,0,1,2], day10_twist(5,[3,4,1])\n",
    "assert day10_twist(5,[3,4,1,5]) == [3,4,2,1,0], day10_twist(5,[3,4,1,5])\n",
    "\n",
    "day10_twist(256,[18,1,0,161,255,137,254,252,14,95,165,33,181,168,2,188])"
   ]
  },
  {
   "cell_type": "markdown",
   "metadata": {},
   "source": [
    "## Day 10B\n",
    "\n",
    "The logic you've constructed forms a single round of the Knot Hash algorithm; running the full thing requires many of these rounds. Some input and output processing is also required.\n",
    "\n",
    "First, from now on, your input should be taken not as a list of numbers, but as a string of bytes instead. Unless otherwise specified, convert characters to bytes using their ASCII codes. This will allow you to handle arbitrary ASCII strings, and it also ensures that your input lengths are never larger than 255. For example, if you are given 1,2,3, you should convert it to the ASCII codes for each character: 49,44,50,44,51.\n",
    "\n",
    "Once you have determined the sequence of lengths to use, add the following lengths to the end of the sequence: 17, 31, 73, 47, 23. For example, if you are given 1,2,3, your final sequence of lengths should be 49,44,50,44,51,17,31,73,47,23 (the ASCII codes from the input string combined with the standard length suffix values).\n",
    "\n",
    "Second, instead of merely running one round like you did above, run a total of 64 rounds, using the same length sequence in each round. The current position and skip size should be preserved between rounds. For example, if the previous example was your first round, you would start your second round with the same length sequence (3, 4, 1, 5, 17, 31, 73, 47, 23, now assuming they came from ASCII codes and include the suffix), but start with the previous round's current position (4) and skip size (4).\n",
    "\n",
    "Once the rounds are complete, you will be left with the numbers from 0 to 255 in some order, called the sparse hash. Your next task is to reduce these to a list of only 16 numbers called the dense hash. To do this, use numeric bitwise XOR to combine each consecutive block of 16 numbers in the sparse hash (there are 16 such blocks in a list of 256 numbers). So, the first element in the dense hash is the first sixteen elements of the sparse hash XOR'd together, the second element in the dense hash is the second sixteen elements of the sparse hash XOR'd together, etc.\n",
    "\n",
    "For example, if the first sixteen elements of your sparse hash are as shown below, and the XOR operator is ^, you would calculate the first output number like this:\n",
    "\n",
    "65 ^ 27 ^ 9 ^ 1 ^ 4 ^ 3 ^ 40 ^ 50 ^ 91 ^ 7 ^ 6 ^ 0 ^ 2 ^ 5 ^ 68 ^ 22 = 64\n",
    "\n",
    "Perform this operation on each of the sixteen blocks of sixteen numbers in your sparse hash to determine the sixteen numbers in your dense hash.\n",
    "\n",
    "Finally, the standard way to represent a Knot Hash is as a single hexadecimal string; the final output is the dense hash in hexadecimal notation. Because each number in your dense hash will be between 0 and 255 (inclusive), always represent each number as two hexadecimal digits (including a leading zero as necessary). So, if your first three numbers are 64, 7, 255, they correspond to the hexadecimal numbers 40, 07, ff, and so the first six characters of the hash would be 4007ff. Because every Knot Hash is sixteen such numbers, the hexadecimal representation is always 32 hexadecimal digits (0-f) long.\n",
    "\n",
    "Here are some example hashes:\n",
    "\n",
    "    The empty string becomes a2582a3a0e66e6e86e3812dcb672a272.\n",
    "    AoC 2017 becomes 33efeb34ea91902bb2f59c9920caa6cd.\n",
    "    1,2,3 becomes 3efbe78a8d82f29979031a4aa0b16a9d.\n",
    "    1,2,4 becomes 63960835bcdc130f0b66d7ff4f6a5a8e.\n",
    "\n",
    "Treating your puzzle input as a string of ASCII characters, what is the Knot Hash of your puzzle input? Ignore any leading or trailing whitespace you might encounter."
   ]
  },
  {
   "cell_type": "code",
   "execution_count": null,
   "metadata": {},
   "outputs": [],
   "source": [
    "## FIXME not done yet"
   ]
  },
  {
   "cell_type": "markdown",
   "metadata": {},
   "source": [
    "## Day 11A\n",
    "\n",
    "Starting where he started, you need to determine the fewest number of steps required to reach him. (A \"step\" means to move from the hex you are in to any adjacent hex.)\n",
    "\n",
    "  \\ n  /\n",
    "nw +--+ ne\n",
    "  /    \\\n",
    "-+      +-\n",
    "  \\    /\n",
    "sw +--+ se\n",
    "  / s  \\\n",
    "  \n",
    "For example:\n",
    "\n",
    "    ne,ne,ne is 3 steps away.\n",
    "    ne,ne,sw,sw is 0 steps away (back where you started).\n",
    "    ne,ne,s,s is 2 steps away (se,se).\n",
    "    se,sw,se,sw,sw is 3 steps away (s,s,sw).\n"
   ]
  },
  {
   "cell_type": "code",
   "execution_count": 20,
   "metadata": {},
   "outputs": [
    {
     "data": {
      "text/plain": [
       "810.0"
      ]
     },
     "execution_count": 20,
     "metadata": {},
     "output_type": "execute_result"
    }
   ],
   "source": [
    "def day11_countsteps(steps):    \n",
    "    # axial coords as per https://www.redblobgames.com/grids/hexagons/#coordinates\n",
    "    # dir q r\n",
    "    # -------\n",
    "    # n   1 0\n",
    "    # ne  0 1\n",
    "    # se -1 1\n",
    "    # s  -1 0\n",
    "    # sw  0 -1\n",
    "    # nw  1 -1\n",
    "    \n",
    "    q = 0\n",
    "    r = 0\n",
    "    for step in steps:\n",
    "        if step=='n':\n",
    "            q+=1\n",
    "        if step=='ne':\n",
    "            r+=1\n",
    "        if step=='se':\n",
    "            q-=1\n",
    "            r+=1\n",
    "        if step=='s':\n",
    "            q-=1\n",
    "        if step=='sw':\n",
    "            r-=1\n",
    "        if step=='nw':\n",
    "            q+=1\n",
    "            r-=1\n",
    "    \n",
    "    return (abs(q) + abs(q + r) + abs(r)) / 2\n",
    "\n",
    "assert day11_countsteps('ne,ne,ne'.split(','))==3\n",
    "assert day11_countsteps('ne,ne,sw,sw'.split(','))==0, day11_countsteps('ne,ne,sw,sw'.split(','))\n",
    "assert day11_countsteps('ne,ne,s,s'.split(','))==2\n",
    "assert day11_countsteps('se,sw,se,sw,sw'.split(','))==3\n",
    "\n",
    "day11_countsteps(parse_input('input_day11a')[0].split(','))"
   ]
  },
  {
   "cell_type": "markdown",
   "metadata": {},
   "source": [
    "## Day 11B\n",
    "\n",
    "How many steps away is the *furthest* he ever got from his starting position?"
   ]
  },
  {
   "cell_type": "code",
   "execution_count": 28,
   "metadata": {},
   "outputs": [
    {
     "data": {
      "text/plain": [
       "1567.0"
      ]
     },
     "execution_count": 28,
     "metadata": {},
     "output_type": "execute_result"
    }
   ],
   "source": [
    "steps = parse_input('input_day11a')[0].split(',')\n",
    "max_steps = 0\n",
    "for i in range(len(steps)):\n",
    "    num_steps = day11_countsteps(steps[:i])\n",
    "    max_steps = max(max_steps, num_steps)\n",
    "\n",
    "max_steps\n"
   ]
  },
  {
   "cell_type": "markdown",
   "metadata": {},
   "source": [
    "## Day 12A\n",
    "\n",
    "Walking along the memory banks of the stream, you find a small village that is experiencing a little confusion: some programs can't communicate with each other.\n",
    "\n",
    "Programs in this village communicate using a fixed system of pipes. Messages are passed between programs using these pipes, but most programs aren't connected to each other directly. Instead, programs pass messages between each other until the message reaches the intended recipient.\n",
    "\n",
    "For some reason, though, some of these messages aren't ever reaching their intended recipient, and the programs suspect that some pipes are missing. They would like you to investigate.\n",
    "\n",
    "You walk through the village and record the ID of each program and the IDs with which it can communicate directly (your puzzle input). Each program has one or more programs with which it can communicate, and these pipes are bidirectional; if 8 says it can communicate with 11, then 11 will say it can communicate with 8.\n",
    "\n",
    "You need to figure out how many programs are in the group that contains program ID 0.\n",
    "\n",
    "For example, suppose you go door-to-door like a travelling salesman and record the following list:\n",
    "\n",
    "0 <-> 2\n",
    "1 <-> 1\n",
    "2 <-> 0, 3, 4\n",
    "3 <-> 2, 4\n",
    "4 <-> 2, 3, 6\n",
    "5 <-> 6\n",
    "6 <-> 4, 5\n",
    "\n",
    "In this example, the following programs are in the group that contains program ID 0:\n",
    "\n",
    "    Program 0 by definition.\n",
    "    Program 2, directly connected to program 0.\n",
    "    Program 3 via program 2.\n",
    "    Program 4 via program 2.\n",
    "    Program 5 via programs 6, then 4, then 2.\n",
    "    Program 6 via programs 4, then 2.\n",
    "\n",
    "Therefore, a total of 6 programs are in this group; all but program 1, which has a pipe that connects it to itself.\n",
    "\n",
    "How many programs are in the group that contains program ID 0?"
   ]
  },
  {
   "cell_type": "code",
   "execution_count": null,
   "metadata": {},
   "outputs": [],
   "source": []
  },
  {
   "cell_type": "markdown",
   "metadata": {},
   "source": [
    "## Day 12B"
   ]
  },
  {
   "cell_type": "code",
   "execution_count": null,
   "metadata": {},
   "outputs": [],
   "source": []
  },
  {
   "cell_type": "markdown",
   "metadata": {},
   "source": [
    "## Day 13A"
   ]
  },
  {
   "cell_type": "code",
   "execution_count": null,
   "metadata": {},
   "outputs": [],
   "source": []
  },
  {
   "cell_type": "markdown",
   "metadata": {},
   "source": [
    "## Day 13B"
   ]
  },
  {
   "cell_type": "code",
   "execution_count": null,
   "metadata": {},
   "outputs": [],
   "source": []
  },
  {
   "cell_type": "markdown",
   "metadata": {},
   "source": [
    "## Day 14A"
   ]
  },
  {
   "cell_type": "code",
   "execution_count": null,
   "metadata": {},
   "outputs": [],
   "source": []
  },
  {
   "cell_type": "markdown",
   "metadata": {},
   "source": [
    "## Day 14B"
   ]
  },
  {
   "cell_type": "code",
   "execution_count": null,
   "metadata": {},
   "outputs": [],
   "source": []
  },
  {
   "cell_type": "markdown",
   "metadata": {},
   "source": [
    "## Day 15A\n",
    "\n",
    "Here, you encounter a pair of dueling generators. The generators, called generator A and generator B, are trying to agree on a sequence of numbers. However, one of them is malfunctioning, and so the sequences don't always match.\n",
    "\n",
    "As they do this, a judge waits for each of them to generate its next value, compares the lowest 16 bits of both values, and keeps track of the number of times those parts of the values match.\n",
    "\n",
    "The generators both work on the same principle. To create its next value, a generator will take the previous value it produced, multiply it by a factor (generator A uses 16807; generator B uses 48271), and then keep the remainder of dividing that resulting product by 2147483647. That final remainder is the value it produces next.\n",
    "\n",
    "To calculate each generator's first value, it instead uses a specific starting value as its \"previous value\" (as listed in your puzzle input).\n",
    "\n",
    "For example, suppose that for starting values, generator A uses 65, while generator B uses 8921. Then, the first five pairs of generated values are:\n",
    "\n",
    "--Gen. A--  --Gen. B--\n",
    "   1092455   430625591\n",
    "1181022009  1233683848\n",
    " 245556042  1431495498\n",
    "1744312007   137874439\n",
    "1352636452   285222916\n",
    "\n",
    "In binary, these pairs are (with generator A's value first in each pair):\n",
    "\n",
    "00000000000100001010101101100111\n",
    "00011001101010101101001100110111\n",
    "\n",
    "01000110011001001111011100111001\n",
    "01001001100010001000010110001000\n",
    "\n",
    "00001110101000101110001101001010\n",
    "01010101010100101110001101001010\n",
    "\n",
    "01100111111110000001011011000111\n",
    "00001000001101111100110000000111\n",
    "\n",
    "01010000100111111001100000100100\n",
    "00010001000000000010100000000100\n",
    "\n",
    "Here, you can see that the lowest (here, rightmost) 16 bits of the third value match: 1110001101001010. Because of this one match, after processing these five pairs, the judge would have added only 1 to its total.\n",
    "\n",
    "To get a significant sample, the judge would like to consider 40 million pairs. (In the example above, the judge would eventually find a total of 588 pairs that match in their lowest 16 bits.)\n",
    "\n",
    "After 40 million pairs, what is the judge's final count?"
   ]
  },
  {
   "cell_type": "code",
   "execution_count": 12,
   "metadata": {},
   "outputs": [
    {
     "name": "stdout",
     "output_type": "stream",
     "text": [
      "1092455\n",
      "1181022001\n"
     ]
    },
    {
     "ename": "AssertionError",
     "evalue": "",
     "output_type": "error",
     "traceback": [
      "\u001b[0;31m---------------------------------------------------------------------------\u001b[0m",
      "\u001b[0;31mAssertionError\u001b[0m                            Traceback (most recent call last)",
      "\u001b[0;32m<ipython-input-12-524cd898a8bb>\u001b[0m in \u001b[0;36m<module>\u001b[0;34m()\u001b[0m\n\u001b[1;32m     10\u001b[0m \u001b[0mtest_generator\u001b[0m\u001b[0;34m=\u001b[0m \u001b[0mday15_generator\u001b[0m\u001b[0;34m(\u001b[0m\u001b[0;36m16807\u001b[0m\u001b[0;34m,\u001b[0m \u001b[0;36m65\u001b[0m\u001b[0;34m)\u001b[0m\u001b[0;34m\u001b[0m\u001b[0m\n\u001b[1;32m     11\u001b[0m \u001b[0;32massert\u001b[0m \u001b[0mnext\u001b[0m\u001b[0;34m(\u001b[0m\u001b[0mtest_generator\u001b[0m\u001b[0;34m)\u001b[0m\u001b[0;34m==\u001b[0m\u001b[0;36m1092455\u001b[0m\u001b[0;34m\u001b[0m\u001b[0m\n\u001b[0;32m---> 12\u001b[0;31m \u001b[0;32massert\u001b[0m \u001b[0mnext\u001b[0m\u001b[0;34m(\u001b[0m\u001b[0mtest_generator\u001b[0m\u001b[0;34m)\u001b[0m\u001b[0;34m==\u001b[0m\u001b[0;36m1181022009\u001b[0m\u001b[0;34m\u001b[0m\u001b[0m\n\u001b[0m\u001b[1;32m     13\u001b[0m \u001b[0;32massert\u001b[0m \u001b[0mnext\u001b[0m\u001b[0;34m(\u001b[0m\u001b[0mtest_generator\u001b[0m\u001b[0;34m)\u001b[0m\u001b[0;34m==\u001b[0m\u001b[0;36m245556042\u001b[0m\u001b[0;34m\u001b[0m\u001b[0m\n\u001b[1;32m     14\u001b[0m \u001b[0;32massert\u001b[0m \u001b[0mnext\u001b[0m\u001b[0;34m(\u001b[0m\u001b[0mtest_generator\u001b[0m\u001b[0;34m)\u001b[0m\u001b[0;34m==\u001b[0m\u001b[0;36m1744312007\u001b[0m\u001b[0;34m\u001b[0m\u001b[0m\n",
      "\u001b[0;31mAssertionError\u001b[0m: "
     ]
    }
   ],
   "source": [
    "def day15_generator(factor, start):\n",
    "    num = start\n",
    "    while True:\n",
    "        num *= factor\n",
    "        num &= 2147483647\n",
    "        print(num)\n",
    "        yield num\n",
    "\n",
    "test_generator= day15_generator(16807, 65)\n",
    "assert next(test_generator)==1092455\n",
    "assert next(test_generator)==1181022009\n",
    "assert next(test_generator)==245556042\n",
    "assert next(test_generator)==1744312007\n",
    "assert next(test_generator)==1352636452\n",
    "\n",
    "def day15_count_matches(generator1, generator2, num_runs):\n",
    "    count = 0\n",
    "    for n in range(num_runs):\n",
    "        val1 = next(generator1) & 65535\n",
    "        val2 = next(generator2) & 65535\n",
    "        if val1==val2:\n",
    "            count+=1\n",
    "    return count\n",
    "\n",
    "test_gen1 = day15_generator(16807, 65)\n",
    "test_gen2 = day15_generator(48271, 8921)\n",
    "assert day15_count_matches(test_gen1, test_gen2, 5) == 1\n",
    "\n",
    "gen1 = day15_generator(16807, 618)\n",
    "gen2 = day15_generator(48271, 814)\n",
    "print (day15_count_matches(gen1, gen2, 40000000))"
   ]
  },
  {
   "cell_type": "markdown",
   "metadata": {},
   "source": [
    "## Day 15B\n",
    "\n",
    "In the interest of trying to align a little better, the generators get more picky about the numbers they actually give to the judge.\n",
    "\n",
    "They still generate values in the same way, but now they only hand a value to the judge when it meets their criteria:\n",
    "\n",
    "    Generator A looks for values that are multiples of 4.\n",
    "    Generator B looks for values that are multiples of 8.\n",
    "\n",
    "Each generator functions completely independently: they both go through values entirely on their own, only occasionally handing an acceptable value to the judge, and otherwise working through the same sequence of values as before until they find one.\n",
    "\n",
    "The judge still waits for each generator to provide it with a value before comparing them (using the same comparison method as before). It keeps track of the order it receives values; the first values from each generator are compared, then the second values from each generator, then the third values, and so on.\n",
    "\n",
    "Using the example starting values given above, the generators now produce the following first five values each:\n",
    "\n",
    "--Gen. A--  --Gen. B--\n",
    "1352636452  1233683848\n",
    "1992081072   862516352\n",
    " 530830436  1159784568\n",
    "1980017072  1616057672\n",
    " 740335192   412269392\n",
    "\n",
    "These values have the following corresponding binary values:\n",
    "\n",
    "01010000100111111001100000100100\n",
    "01001001100010001000010110001000\n",
    "\n",
    "01110110101111001011111010110000\n",
    "00110011011010001111010010000000\n",
    "\n",
    "00011111101000111101010001100100\n",
    "01000101001000001110100001111000\n",
    "\n",
    "01110110000001001010100110110000\n",
    "01100000010100110001010101001000\n",
    "\n",
    "00101100001000001001111001011000\n",
    "00011000100100101011101101010000\n",
    "\n",
    "Unfortunately, even though this change makes more bits similar on average, none of these values' lowest 16 bits match. Now, it's not until the 1056th pair that the judge finds the first match:\n",
    "\n",
    "--Gen. A--  --Gen. B--\n",
    "1023762912   896885216\n",
    "\n",
    "00111101000001010110000111100000\n",
    "00110101011101010110000111100000\n",
    "\n",
    "This change makes the generators much slower, and the judge is getting impatient; it is now only willing to consider 5 million pairs. (Using the values from the example above, after five million pairs, the judge would eventually find a total of 309 pairs that match in their lowest 16 bits.)\n",
    "\n",
    "After 5 million pairs, but using this new generator logic, what is the judge's final count?"
   ]
  },
  {
   "cell_type": "code",
   "execution_count": 23,
   "metadata": {},
   "outputs": [
    {
     "ename": "KeyboardInterrupt",
     "evalue": "",
     "output_type": "error",
     "traceback": [
      "\u001b[0;31m---------------------------------------------------------------------------\u001b[0m",
      "\u001b[0;31mKeyboardInterrupt\u001b[0m                         Traceback (most recent call last)",
      "\u001b[0;32m<ipython-input-23-868260e11d99>\u001b[0m in \u001b[0;36m<module>\u001b[0;34m()\u001b[0m\n\u001b[1;32m     16\u001b[0m \u001b[0mtest_gen1\u001b[0m \u001b[0;34m=\u001b[0m \u001b[0mday15_generator\u001b[0m\u001b[0;34m(\u001b[0m\u001b[0;36m16807\u001b[0m\u001b[0;34m,\u001b[0m \u001b[0;36m65\u001b[0m\u001b[0;34m)\u001b[0m\u001b[0;34m\u001b[0m\u001b[0m\n\u001b[1;32m     17\u001b[0m \u001b[0mtest_gen2\u001b[0m \u001b[0;34m=\u001b[0m \u001b[0mday15_generator\u001b[0m\u001b[0;34m(\u001b[0m\u001b[0;36m48271\u001b[0m\u001b[0;34m,\u001b[0m \u001b[0;36m8921\u001b[0m\u001b[0;34m)\u001b[0m\u001b[0;34m\u001b[0m\u001b[0m\n\u001b[0;32m---> 18\u001b[0;31m \u001b[0;32massert\u001b[0m \u001b[0mday15_count_matches\u001b[0m\u001b[0;34m(\u001b[0m\u001b[0mtest_gen1\u001b[0m\u001b[0;34m,\u001b[0m \u001b[0mtest_gen2\u001b[0m\u001b[0;34m,\u001b[0m \u001b[0;36m5\u001b[0m\u001b[0;34m)\u001b[0m \u001b[0;34m==\u001b[0m \u001b[0;36m0\u001b[0m\u001b[0;34m\u001b[0m\u001b[0m\n\u001b[0m\u001b[1;32m     19\u001b[0m \u001b[0mtest_gen1\u001b[0m \u001b[0;34m=\u001b[0m \u001b[0mday15_generator\u001b[0m\u001b[0;34m(\u001b[0m\u001b[0;36m16807\u001b[0m\u001b[0;34m,\u001b[0m \u001b[0;36m65\u001b[0m\u001b[0;34m)\u001b[0m\u001b[0;34m\u001b[0m\u001b[0m\n\u001b[1;32m     20\u001b[0m \u001b[0mtest_gen2\u001b[0m \u001b[0;34m=\u001b[0m \u001b[0mday15_generator\u001b[0m\u001b[0;34m(\u001b[0m\u001b[0;36m48271\u001b[0m\u001b[0;34m,\u001b[0m \u001b[0;36m8921\u001b[0m\u001b[0;34m)\u001b[0m\u001b[0;34m\u001b[0m\u001b[0m\n",
      "\u001b[0;32m<ipython-input-23-868260e11d99>\u001b[0m in \u001b[0;36mday15_count_matches\u001b[0;34m(generator1, generator2, num_runs)\u001b[0m\n\u001b[1;32m      7\u001b[0m                 \u001b[0;32mbreak\u001b[0m\u001b[0;34m\u001b[0m\u001b[0m\n\u001b[1;32m      8\u001b[0m         \u001b[0;32mwhile\u001b[0m \u001b[0;32mTrue\u001b[0m\u001b[0;34m:\u001b[0m\u001b[0;34m\u001b[0m\u001b[0m\n\u001b[0;32m----> 9\u001b[0;31m             \u001b[0mval2\u001b[0m \u001b[0;34m=\u001b[0m \u001b[0mnext\u001b[0m\u001b[0;34m(\u001b[0m\u001b[0mgenerator2\u001b[0m\u001b[0;34m)\u001b[0m\u001b[0;34m\u001b[0m\u001b[0m\n\u001b[0m\u001b[1;32m     10\u001b[0m             \u001b[0;32mif\u001b[0m \u001b[0mval1\u001b[0m\u001b[0;34m%\u001b[0m\u001b[0;36m8\u001b[0m \u001b[0;34m==\u001b[0m \u001b[0;36m0\u001b[0m\u001b[0;34m:\u001b[0m\u001b[0;34m\u001b[0m\u001b[0m\n\u001b[1;32m     11\u001b[0m                 \u001b[0;32mbreak\u001b[0m\u001b[0;34m\u001b[0m\u001b[0m\n",
      "\u001b[0;32m<ipython-input-12-bce715f16259>\u001b[0m in \u001b[0;36mday15_generator\u001b[0;34m(factor, start)\u001b[0m\n\u001b[1;32m      3\u001b[0m     \u001b[0mnum\u001b[0m \u001b[0;34m=\u001b[0m \u001b[0mstart\u001b[0m\u001b[0;34m\u001b[0m\u001b[0m\n\u001b[1;32m      4\u001b[0m     \u001b[0;32mwhile\u001b[0m \u001b[0;32mTrue\u001b[0m\u001b[0;34m:\u001b[0m\u001b[0;34m\u001b[0m\u001b[0m\n\u001b[0;32m----> 5\u001b[0;31m         \u001b[0mnum\u001b[0m \u001b[0;34m*=\u001b[0m \u001b[0mfactor\u001b[0m\u001b[0;34m\u001b[0m\u001b[0m\n\u001b[0m\u001b[1;32m      6\u001b[0m         \u001b[0mnum\u001b[0m \u001b[0;34m%=\u001b[0m \u001b[0;36m2147483647\u001b[0m\u001b[0;34m\u001b[0m\u001b[0m\n\u001b[1;32m      7\u001b[0m         \u001b[0;32myield\u001b[0m \u001b[0mnum\u001b[0m\u001b[0;34m\u001b[0m\u001b[0m\n",
      "\u001b[0;31mKeyboardInterrupt\u001b[0m: "
     ]
    }
   ],
   "source": [
    "def day15_count_matches(generator1, generator2, num_runs):\n",
    "    count = 0\n",
    "    for n in range(num_runs):\n",
    "        while True:\n",
    "            val1 = next(generator1)\n",
    "            if val1%4 == 0:\n",
    "                break\n",
    "        while True:\n",
    "            val2 = next(generator2)\n",
    "            if val1%8 == 0:\n",
    "                break\n",
    "        if val1 & 65535 == val2 & 65535:\n",
    "            count+=1\n",
    "    return count\n",
    "\n",
    "test_gen1 = day15_generator(16807, 65)\n",
    "test_gen2 = day15_generator(48271, 8921)\n",
    "assert day15_count_matches(test_gen1, test_gen2, 5) == 0\n",
    "test_gen1 = day15_generator(16807, 65)\n",
    "test_gen2 = day15_generator(48271, 8921)\n",
    "#assert day15_count_matches(test_gen1, test_gen2, 1055) == 0\n",
    "test_gen1 = day15_generator(16807, 65)\n",
    "test_gen2 = day15_generator(48271, 8921)\n",
    "#assert day15_count_matches(test_gen1, test_gen2, 1056) == 1\n",
    "\n",
    "gen1 = day15_generator(16807, 618)\n",
    "gen2 = day15_generator(48271, 814)\n",
    "#print (day15_count_matches(gen1, gen2, 5000000))\n",
    "print(\"Done\")"
   ]
  },
  {
   "cell_type": "markdown",
   "metadata": {},
   "source": [
    "## Day 16A\n",
    "\n",
    "There are sixteen programs in total, named a through p. They start by standing in a line: a stands in position 0, b stands in position 1, and so on until p, which stands in position 15.\n",
    "\n",
    "The programs' dance consists of a sequence of dance moves:\n",
    "\n",
    "    Spin, written sX, makes X programs move from the end to the front, but maintain their order otherwise. (For example, s3 on abcde produces cdeab).\n",
    "    Exchange, written xA/B, makes the programs at positions A and B swap places.\n",
    "    Partner, written pA/B, makes the programs named A and B swap places.\n",
    "\n",
    "For example, with only five programs standing in a line (abcde), they could do the following dance:\n",
    "\n",
    "    s1, a spin of size 1: eabcd.\n",
    "    x3/4, swapping the last two programs: eabdc.\n",
    "    pe/b, swapping programs e and b: baedc.\n",
    "\n",
    "After finishing their dance, the programs end up in order baedc.\n",
    "\n",
    "You watch the dance for a while and record their dance moves (your puzzle input). In what order are the programs standing after their dance?"
   ]
  },
  {
   "cell_type": "code",
   "execution_count": null,
   "metadata": {},
   "outputs": [],
   "source": []
  },
  {
   "cell_type": "markdown",
   "metadata": {},
   "source": [
    "## Day 16B"
   ]
  },
  {
   "cell_type": "code",
   "execution_count": null,
   "metadata": {},
   "outputs": [],
   "source": []
  },
  {
   "cell_type": "markdown",
   "metadata": {},
   "source": [
    "## Day 17A"
   ]
  },
  {
   "cell_type": "code",
   "execution_count": null,
   "metadata": {},
   "outputs": [],
   "source": []
  },
  {
   "cell_type": "markdown",
   "metadata": {},
   "source": [
    "## Day 17B"
   ]
  },
  {
   "cell_type": "code",
   "execution_count": null,
   "metadata": {},
   "outputs": [],
   "source": []
  },
  {
   "cell_type": "markdown",
   "metadata": {},
   "source": [
    "## Day 18A"
   ]
  },
  {
   "cell_type": "code",
   "execution_count": null,
   "metadata": {},
   "outputs": [],
   "source": []
  },
  {
   "cell_type": "markdown",
   "metadata": {},
   "source": [
    "## Day 18B"
   ]
  },
  {
   "cell_type": "code",
   "execution_count": null,
   "metadata": {},
   "outputs": [],
   "source": []
  },
  {
   "cell_type": "markdown",
   "metadata": {},
   "source": [
    "## Day 19A"
   ]
  },
  {
   "cell_type": "code",
   "execution_count": null,
   "metadata": {},
   "outputs": [],
   "source": []
  },
  {
   "cell_type": "markdown",
   "metadata": {},
   "source": [
    "## Day 19B"
   ]
  },
  {
   "cell_type": "code",
   "execution_count": null,
   "metadata": {},
   "outputs": [],
   "source": []
  },
  {
   "cell_type": "markdown",
   "metadata": {},
   "source": [
    "## Day 20A"
   ]
  },
  {
   "cell_type": "code",
   "execution_count": null,
   "metadata": {},
   "outputs": [],
   "source": []
  },
  {
   "cell_type": "markdown",
   "metadata": {},
   "source": [
    "## Day 20B"
   ]
  },
  {
   "cell_type": "code",
   "execution_count": null,
   "metadata": {},
   "outputs": [],
   "source": []
  },
  {
   "cell_type": "markdown",
   "metadata": {},
   "source": [
    "## Day 21A"
   ]
  },
  {
   "cell_type": "code",
   "execution_count": null,
   "metadata": {},
   "outputs": [],
   "source": []
  },
  {
   "cell_type": "markdown",
   "metadata": {},
   "source": [
    "## Day 21B"
   ]
  },
  {
   "cell_type": "code",
   "execution_count": null,
   "metadata": {},
   "outputs": [],
   "source": []
  },
  {
   "cell_type": "markdown",
   "metadata": {},
   "source": [
    "## Day 22A"
   ]
  },
  {
   "cell_type": "code",
   "execution_count": null,
   "metadata": {},
   "outputs": [],
   "source": []
  },
  {
   "cell_type": "code",
   "execution_count": null,
   "metadata": {},
   "outputs": [],
   "source": [
    "## Day 22B"
   ]
  },
  {
   "cell_type": "code",
   "execution_count": null,
   "metadata": {},
   "outputs": [],
   "source": []
  },
  {
   "cell_type": "code",
   "execution_count": null,
   "metadata": {},
   "outputs": [],
   "source": [
    "## Day 23A"
   ]
  },
  {
   "cell_type": "code",
   "execution_count": null,
   "metadata": {},
   "outputs": [],
   "source": []
  },
  {
   "cell_type": "code",
   "execution_count": null,
   "metadata": {},
   "outputs": [],
   "source": [
    "## Day 23B"
   ]
  },
  {
   "cell_type": "code",
   "execution_count": null,
   "metadata": {},
   "outputs": [],
   "source": []
  },
  {
   "cell_type": "code",
   "execution_count": null,
   "metadata": {},
   "outputs": [],
   "source": [
    "## Day 24A"
   ]
  },
  {
   "cell_type": "code",
   "execution_count": null,
   "metadata": {},
   "outputs": [],
   "source": []
  },
  {
   "cell_type": "code",
   "execution_count": null,
   "metadata": {},
   "outputs": [],
   "source": [
    "## Day 24B"
   ]
  },
  {
   "cell_type": "code",
   "execution_count": null,
   "metadata": {},
   "outputs": [],
   "source": []
  },
  {
   "cell_type": "code",
   "execution_count": null,
   "metadata": {},
   "outputs": [],
   "source": [
    "## Day 25A"
   ]
  },
  {
   "cell_type": "code",
   "execution_count": null,
   "metadata": {},
   "outputs": [],
   "source": []
  },
  {
   "cell_type": "code",
   "execution_count": null,
   "metadata": {},
   "outputs": [],
   "source": [
    "## Day 25B"
   ]
  },
  {
   "cell_type": "code",
   "execution_count": null,
   "metadata": {},
   "outputs": [],
   "source": []
  },
  {
   "cell_type": "code",
   "execution_count": null,
   "metadata": {},
   "outputs": [],
   "source": []
  },
  {
   "cell_type": "code",
   "execution_count": null,
   "metadata": {},
   "outputs": [],
   "source": []
  },
  {
   "cell_type": "code",
   "execution_count": null,
   "metadata": {},
   "outputs": [],
   "source": []
  },
  {
   "cell_type": "code",
   "execution_count": null,
   "metadata": {},
   "outputs": [],
   "source": []
  },
  {
   "cell_type": "code",
   "execution_count": null,
   "metadata": {},
   "outputs": [],
   "source": []
  },
  {
   "cell_type": "code",
   "execution_count": null,
   "metadata": {},
   "outputs": [],
   "source": []
  },
  {
   "cell_type": "code",
   "execution_count": null,
   "metadata": {},
   "outputs": [],
   "source": []
  }
 ],
 "metadata": {
  "kernelspec": {
   "display_name": "Python 3",
   "language": "python",
   "name": "python3"
  },
  "language_info": {
   "codemirror_mode": {
    "name": "ipython",
    "version": 3
   },
   "file_extension": ".py",
   "mimetype": "text/x-python",
   "name": "python",
   "nbconvert_exporter": "python",
   "pygments_lexer": "ipython3",
   "version": "3.6.3"
  }
 },
 "nbformat": 4,
 "nbformat_minor": 2
}
