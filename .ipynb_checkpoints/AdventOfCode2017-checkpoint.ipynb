{
 "cells": [
  {
   "cell_type": "markdown",
   "metadata": {},
   "source": [
    "## Utility functions"
   ]
  },
  {
   "cell_type": "code",
   "execution_count": 6,
   "metadata": {},
   "outputs": [],
   "source": [
    "def parse_input(filename, line_fn=None):\n",
    "    with open(filename) as f:\n",
    "        content = f.readlines()\n",
    "        content = [x.strip() for x in content]\n",
    "        if (line_fn):\n",
    "            content = list(map(lambda line: line_fn(line), content))\n",
    "        return content\n",
    "    \n",
    "def split_integers(line):\n",
    "    return list(map(lambda el: int(el), line.split()))"
   ]
  },
  {
   "cell_type": "markdown",
   "metadata": {},
   "source": [
    "## Part 1 A\n",
    "\n",
    "The captcha requires you to review a sequence of digits (your puzzle input) and find the sum of all digits that match the next digit in the list. The list is circular, so the digit after the last digit is the first digit in the list.\n",
    "\n",
    "For example:\n",
    "\n",
    "    1122 produces a sum of 3 (1 + 2) because the first digit (1) matches the second digit and the third digit (2) matches the fourth digit.\n",
    "    1111 produces 4 because each digit (all 1) matches the next.\n",
    "    1234 produces 0 because no digit matches the next.\n",
    "    91212129 produces 9 because the only digit that matches the next one is the last digit, 9.\n"
   ]
  },
  {
   "cell_type": "code",
   "execution_count": 20,
   "metadata": {},
   "outputs": [
    {
     "data": {
      "text/plain": [
       "1144"
      ]
     },
     "execution_count": 20,
     "metadata": {},
     "output_type": "execute_result"
    }
   ],
   "source": [
    "def day1_captcha(captcha):\n",
    "    sum = 0\n",
    "    for i in range(len(captcha)):\n",
    "        this_char = captcha[i]\n",
    "        last_char = captcha[i-1]\n",
    "        if this_char == last_char:\n",
    "            sum += int(this_char)\n",
    "    return sum\n",
    "\n",
    "assert day1_captcha(\"1122\") == 3, day1_captcha(\"1122\")\n",
    "assert day1_captcha(\"1111\") == 4, day1_captcha(\"1111\")\n",
    "assert day1_captcha(\"1234\") == 0, day1_captcha(\"1234\")\n",
    "assert day1_captcha(\"91212129\") == 9, day1_captcha(\"91212129\")\n",
    "\n",
    "day1_captcha( parse_input('input_day01a')[0] )"
   ]
  },
  {
   "cell_type": "markdown",
   "metadata": {},
   "source": [
    "## Part 1 B\n",
    "\n",
    "Now, instead of considering the next digit, it wants you to consider the digit halfway around the circular list. That is, if your list contains 10 items, only include a digit in your sum if the digit 10/2 = 5 steps forward matches it. Fortunately, your list has an even number of elements.\n",
    "\n",
    "For example:\n",
    "\n",
    "    1212 produces 6: the list contains 4 items, and all four digits match the digit 2 items ahead.\n",
    "    1221 produces 0, because every comparison is between a 1 and a 2.\n",
    "    123425 produces 4, because both 2s match each other, but no other digit has a match.\n",
    "    123123 produces 12.\n",
    "    12131415 produces 4.\n"
   ]
  },
  {
   "cell_type": "code",
   "execution_count": 15,
   "metadata": {},
   "outputs": [
    {
     "data": {
      "text/plain": [
       "1194"
      ]
     },
     "execution_count": 15,
     "metadata": {},
     "output_type": "execute_result"
    }
   ],
   "source": [
    "def day1_captcha(captcha):\n",
    "    sum = 0\n",
    "    for i in range(len(captcha)):\n",
    "        this_char = captcha[i]\n",
    "        last_char = captcha[i- int(len(captcha)/2) ]\n",
    "        if this_char == last_char:\n",
    "            sum += int(this_char)\n",
    "    return sum\n",
    "\n",
    "assert day1_captcha(\"1212\") == 6, day1_captcha(\"1212\")\n",
    "assert day1_captcha(\"1221\") == 0, day1_captcha(\"1221\")\n",
    "assert day1_captcha(\"123425\") == 4, day1_captcha(\"123425\")\n",
    "assert day1_captcha(\"123123\") == 12, day1_captcha(\"123123\")\n",
    "assert day1_captcha(\"12131415\") == 4, day1_captcha(\"12131415\")\n",
    "\n",
    "day1_captcha( parse_input('input_day01a')[0] )"
   ]
  },
  {
   "cell_type": "markdown",
   "metadata": {},
   "source": [
    "## Part 2A\n",
    "\n",
    "For each row, determine the difference between the largest value and the smallest value; the checksum is the sum of all of these differences.\n",
    "\n",
    "For example, given the following spreadsheet:\n",
    "\n",
    "5 1 9 5\n",
    "7 5 3\n",
    "2 4 6 8\n",
    "\n",
    "    The first row's largest and smallest values are 9 and 1, and their difference is 8.\n",
    "    The second row's largest and smallest values are 7 and 3, and their difference is 4.\n",
    "    The third row's difference is 6.\n",
    "\n",
    "In this example, the spreadsheet's checksum would be 8 + 4 + 6 = 18."
   ]
  },
  {
   "cell_type": "code",
   "execution_count": 45,
   "metadata": {},
   "outputs": [
    {
     "data": {
      "text/plain": [
       "41919"
      ]
     },
     "execution_count": 45,
     "metadata": {},
     "output_type": "execute_result"
    }
   ],
   "source": [
    "def day2_checksum(sheet):\n",
    "    return sum(list(map(lambda line: max(line)-min(line), sheet)))\n",
    "\n",
    "test_checksum = day2_checksum([[5,1,9,5],[7,5,3],[2,4,6,8]])\n",
    "assert test_checksum == 18, test_checksum\n",
    "\n",
    "day2_checksum( parse_input('input_day02a', lambda line: split_integers(line)) )\n"
   ]
  },
  {
   "cell_type": "markdown",
   "metadata": {},
   "source": [
    "## Part 2B\n",
    "\n",
    "It sounds like the goal is to find the only two numbers in each row where one evenly divides the other - that is, where the result of the division operation is a whole number. They would like you to find those numbers on each line, divide them, and add up each line's result.\n",
    "\n",
    "For example, given the following spreadsheet:\n",
    "\n",
    "5 9 2 8\n",
    "9 4 7 3\n",
    "3 8 6 5\n",
    "\n",
    "    In the first row, the only two numbers that evenly divide are 8 and 2; the result of this division is 4.\n",
    "    In the second row, the two numbers are 9 and 3; the result is 3.\n",
    "    In the third row, the result is 2.\n",
    "\n",
    "In this example, the sum of the results would be 4 + 3 + 2 = 9."
   ]
  },
  {
   "cell_type": "code",
   "execution_count": 68,
   "metadata": {},
   "outputs": [
    {
     "data": {
      "text/plain": [
       "303"
      ]
     },
     "execution_count": 68,
     "metadata": {},
     "output_type": "execute_result"
    }
   ],
   "source": [
    "def day2_checksum(sheet):\n",
    "    def calc_line(line):\n",
    "        line = sorted(line)\n",
    "        for i in range(len(line)):\n",
    "            for j in range(i):\n",
    "                if line[i] % line[j] == 0:\n",
    "                    return int(line[i]/line[j])\n",
    "    return sum(list(map(lambda line: calc_line(line), sheet)))\n",
    "\n",
    "test_checksum = day2_checksum([[5,9,2,8],[9,4,7,3],[3,8,6,5]])\n",
    "assert test_checksum == 9, test_checksum\n",
    "\n",
    "day2_checksum( parse_input('input_day02a', lambda line: split_integers(line)) )"
   ]
  },
  {
   "cell_type": "markdown",
   "metadata": {},
   "source": [
    "## Part 3A\n",
    "\n",
    "You come across an experimental new kind of memory stored on an infinite two-dimensional grid.\n",
    "\n",
    "Each square on the grid is allocated in a spiral pattern starting at a location marked 1 and then counting up while spiraling outward. For example, the first few squares are allocated like this:\n",
    "\n",
    "17  16  15  14  13\n",
    "18   5   4   3  12\n",
    "19   6   1   2  11\n",
    "20   7   8   9  10\n",
    "21  22  23---> ...\n",
    "\n",
    "While this is very space-efficient (no squares are skipped), requested data must be carried back to square 1 (the location of the only access port for this memory system) by programs that can only move up, down, left, or right. They always take the shortest path: the Manhattan Distance between the location of the data and square 1.\n",
    "\n",
    "For example:\n",
    "\n",
    "    Data from square 1 is carried 0 steps, since it's at the access port.\n",
    "    Data from square 12 is carried 3 steps, such as: down, left, left.\n",
    "    Data from square 23 is carried only 2 steps: up twice.\n",
    "    Data from square 1024 must be carried 31 steps.\n",
    "\n",
    "How many steps are required to carry the data from the square identified in your puzzle input all the way to the access port?\n",
    "\n",
    "Your puzzle input is 277678."
   ]
  },
  {
   "cell_type": "code",
   "execution_count": 5,
   "metadata": {},
   "outputs": [
    {
     "data": {
      "text/plain": [
       "475.0"
      ]
     },
     "execution_count": 5,
     "metadata": {},
     "output_type": "execute_result"
    }
   ],
   "source": [
    "import math\n",
    "\n",
    "# OEIS A214526\n",
    "def get_x_y(n):\n",
    "  sr = int(math.sqrt(n-1))\n",
    "  sr = sr-1+(sr&1)\n",
    "  rm = n-sr*sr\n",
    "  d = (sr+1)/2\n",
    "  if rm<=sr+1:\n",
    "    return -d+rm,d\n",
    "  if rm<=sr*2+2:\n",
    "    return d,d-(rm-(sr+1))\n",
    "  if rm<=sr*3+3:\n",
    "    return d-(rm-(sr*2+2)),-d\n",
    "  return -d,-d+rm-(sr*3+3) \n",
    "\n",
    "def day3_distance(n):\n",
    "  xy = get_x_y(n)\n",
    "  return abs(xy[0]) + abs(xy[1])\n",
    "\n",
    "assert day3_distance(1) == 0, day3_distance(1)\n",
    "assert day3_distance(12) == 3, day3_distance(12)\n",
    "assert day3_distance(23) == 2, day3_distance(23)\n",
    "assert day3_distance(1024) == 31, day3_distance(1024)\n",
    "\n",
    "day3_distance(277678)"
   ]
  },
  {
   "cell_type": "markdown",
   "metadata": {},
   "source": [
    "## Part 3B\n",
    "\n",
    "As a stress test on the system, the programs here clear the grid and then store the value 1 in square 1. Then, in the same allocation order as shown above, they store the sum of the values in all adjacent squares, including diagonals.\n",
    "\n",
    "So, the first few squares' values are chosen as follows:\n",
    "\n",
    "    Square 1 starts with the value 1.\n",
    "    Square 2 has only one adjacent filled square (with value 1), so it also stores 1.\n",
    "    Square 3 has both of the above squares as neighbors and stores the sum of their values, 2.\n",
    "    Square 4 has all three of the aforementioned squares as neighbors and stores the sum of their values, 4.\n",
    "    Square 5 only has the first and fourth squares as neighbors, so it gets the value 5.\n",
    "\n",
    "Once a square is written, its value does not change. Therefore, the first few squares would receive the following values:\n",
    "\n",
    "147  142  133  122   59\n",
    "304    5    4    2   57\n",
    "330   10    1    1   54\n",
    "351   11   23   25   26\n",
    "362  747  806--->   ...\n",
    "\n",
    "What is the first value written that is larger than your puzzle input?\n",
    "\n",
    "Your puzzle input is still 277678."
   ]
  },
  {
   "cell_type": "code",
   "execution_count": 7,
   "metadata": {},
   "outputs": [],
   "source": [
    "# Meh, boring.  This is just https://oeis.org/A141481/b141481.txt and I'm not rewriting it."
   ]
  },
  {
   "cell_type": "markdown",
   "metadata": {},
   "source": [
    "## Part 4A\n",
    "\n",
    "A passphrase consists of a series of words (lowercase letters) separated by spaces.  To ensure security, a valid passphrase must contain no duplicate words.\n",
    "\n",
    "For example:\n",
    "\n",
    "    aa bb cc dd ee is valid.\n",
    "    aa bb cc dd aa is not valid - the word aa appears more than once.\n",
    "    aa bb cc dd aaa is valid - aa and aaa count as different words.\n",
    "\n",
    "The system's full passphrase list is available as your puzzle input. How many passphrases are valid?"
   ]
  },
  {
   "cell_type": "code",
   "execution_count": 15,
   "metadata": {},
   "outputs": [
    {
     "data": {
      "text/plain": [
       "466"
      ]
     },
     "execution_count": 15,
     "metadata": {},
     "output_type": "execute_result"
    }
   ],
   "source": [
    "def day4_passphrase_is_valid(passphrase):\n",
    "    return len(set(passphrase)) == len(passphrase)\n",
    "\n",
    "assert day4_passphrase_is_valid(['aa','bb','cc','dd','ee'])\n",
    "assert not day4_passphrase_is_valid(['aa','bb','cc','dd','aa'])\n",
    "assert day4_passphrase_is_valid(['aa','bb','cc','dd','aaa'])\n",
    "\n",
    "valid_passphrases = list(filter(lambda p: day4_passphrase_is_valid(p), parse_input('input_day04a', lambda line: line.split()) ))\n",
    "len(valid_passphrases)"
   ]
  },
  {
   "cell_type": "markdown",
   "metadata": {},
   "source": [
    "## Part 4B\n",
    "\n",
    "Now, a valid passphrase must contain no two words that are anagrams of each other - that is, a passphrase is invalid if any word's letters can be rearranged to form any other word in the passphrase.\n",
    "\n",
    "For example:\n",
    "\n",
    "    abcde fghij is a valid passphrase.\n",
    "    abcde xyz ecdab is not valid - the letters from the third word can be rearranged to form the first word.\n",
    "    a ab abc abd abf abj is a valid passphrase, because all letters need to be used when forming another word.\n",
    "    iiii oiii ooii oooi oooo is valid.\n",
    "    oiii ioii iioi iiio is not valid - any of these words can be rearranged to form any other word.\n",
    "\n",
    "Under this new system policy, how many passphrases are valid?"
   ]
  },
  {
   "cell_type": "code",
   "execution_count": 18,
   "metadata": {},
   "outputs": [
    {
     "data": {
      "text/plain": [
       "251"
      ]
     },
     "execution_count": 18,
     "metadata": {},
     "output_type": "execute_result"
    }
   ],
   "source": [
    "def day4_passphrase_is_valid(passphrase):\n",
    "    passphrase = list(map(lambda word: ''.join(sorted(word)), passphrase))\n",
    "    return len(set(passphrase)) == len(passphrase)\n",
    "\n",
    "assert day4_passphrase_is_valid(['abcde','fghij'])\n",
    "assert not day4_passphrase_is_valid(['abcde','xyz','ecdab'])\n",
    "\n",
    "valid_passphrases = list(filter(lambda p: day4_passphrase_is_valid(p), parse_input('input_day04a', lambda line: line.split()) ))\n",
    "len(valid_passphrases)"
   ]
  },
  {
   "cell_type": "markdown",
   "metadata": {},
   "source": [
    "## Part 5A\n",
    "\n",
    "The message includes a list of the offsets for each jump. Jumps are relative: -1 moves to the previous instruction, and 2 skips the next one. Start at the first instruction in the list. The goal is to follow the jumps until one leads outside the list.\n",
    "\n",
    "In addition, these instructions are a little strange; after each jump, the offset of that instruction increases by 1. So, if you come across an offset of 3, you would move three instructions forward, but change it to a 4 for the next time it is encountered.\n",
    "\n",
    "For example, consider the following list of jump offsets:\n",
    "\n",
    "0\n",
    "3\n",
    "0\n",
    "1\n",
    "-3\n",
    "\n",
    "Positive jumps (\"forward\") move downward; negative jumps move upward. For legibility in this example, these offset values will be written all on one line, with the current instruction marked in parentheses. The following steps would be taken before an exit is found:\n",
    "\n",
    "    (0) 3  0  1  -3  - before we have taken any steps.\n",
    "    (1) 3  0  1  -3  - jump with offset 0 (that is, don't jump at all). Fortunately, the instruction is then incremented to 1.\n",
    "     2 (3) 0  1  -3  - step forward because of the instruction we just modified. The first instruction is incremented again, now to 2.\n",
    "     2  4  0  1 (-3) - jump all the way to the end; leave a 4 behind.\n",
    "     2 (4) 0  1  -2  - go back to where we just were; increment -3 to -2.\n",
    "     2  5  0  1  -2  - jump 4 steps forward, escaping the maze.\n",
    "\n",
    "In this example, the exit is reached in 5 steps."
   ]
  },
  {
   "cell_type": "code",
   "execution_count": 8,
   "metadata": {},
   "outputs": [
    {
     "data": {
      "text/plain": [
       "373160"
      ]
     },
     "execution_count": 8,
     "metadata": {},
     "output_type": "execute_result"
    }
   ],
   "source": [
    "def day5_findexit(instrs):\n",
    "    posn = 0\n",
    "    time = 0\n",
    "    while posn in range(len(instrs)):\n",
    "        time += 1\n",
    "        cur_jump = instrs[posn]\n",
    "        instrs[posn] += 1\n",
    "        posn += cur_jump\n",
    "    return time\n",
    "\n",
    "assert day5_findexit([0,3,0,1,-3])==5, day5_findexit([0,3,0,1,-3])\n",
    "\n",
    "day5_findexit(parse_input('input_day05a', lambda line: int(line)))"
   ]
  },
  {
   "cell_type": "markdown",
   "metadata": {},
   "source": [
    "## Part 5B\n",
    "\n",
    "Now, the jumps are even stranger: after each jump, if the offset was three or more, instead decrease it by 1. Otherwise, increase it by 1 as before.\n",
    "\n",
    "Using this rule with the above example, the process now takes 10 steps, and the offset values after finding the exit are left as 2 3 2 3 -1.\n",
    "\n",
    "How many steps does it now take to reach the exit?"
   ]
  },
  {
   "cell_type": "code",
   "execution_count": 9,
   "metadata": {},
   "outputs": [
    {
     "data": {
      "text/plain": [
       "26395586"
      ]
     },
     "execution_count": 9,
     "metadata": {},
     "output_type": "execute_result"
    }
   ],
   "source": [
    "def day5_findexit(instrs):\n",
    "    posn = 0\n",
    "    time = 0\n",
    "    while posn in range(len(instrs)):\n",
    "        time += 1\n",
    "        cur_jump = instrs[posn]\n",
    "        if cur_jump >= 3:\n",
    "            instrs[posn] -= 1\n",
    "        else:\n",
    "            instrs[posn] += 1\n",
    "        posn += cur_jump\n",
    "    return time\n",
    "\n",
    "assert day5_findexit([0,3,0,1,-3])==10, day5_findexit([0,3,0,1,-3])\n",
    "\n",
    "day5_findexit(parse_input('input_day05a', lambda line: int(line)))"
   ]
  },
  {
   "cell_type": "code",
   "execution_count": null,
   "metadata": {},
   "outputs": [],
   "source": []
  }
 ],
 "metadata": {
  "kernelspec": {
   "display_name": "Python 3",
   "language": "python",
   "name": "python3"
  },
  "language_info": {
   "codemirror_mode": {
    "name": "ipython",
    "version": 3
   },
   "file_extension": ".py",
   "mimetype": "text/x-python",
   "name": "python",
   "nbconvert_exporter": "python",
   "pygments_lexer": "ipython3",
   "version": "3.6.3"
  }
 },
 "nbformat": 4,
 "nbformat_minor": 2
}
