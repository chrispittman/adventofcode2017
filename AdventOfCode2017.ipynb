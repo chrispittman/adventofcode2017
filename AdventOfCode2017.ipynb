{
 "cells": [
  {
   "cell_type": "markdown",
   "metadata": {},
   "source": [
    "## Utility functions"
   ]
  },
  {
   "cell_type": "code",
   "execution_count": 43,
   "metadata": {},
   "outputs": [],
   "source": [
    "def parse_input(filename, line_fn=None):\n",
    "    with open(filename) as f:\n",
    "        content = f.readlines()\n",
    "        content = [x.strip() for x in content]\n",
    "        if (line_fn):\n",
    "            content = list(map(lambda line: line_fn(line), content))\n",
    "        return content\n",
    "    \n",
    "def split_integers(line):\n",
    "    return list(map(lambda el: int(el), line.split()))"
   ]
  },
  {
   "cell_type": "markdown",
   "metadata": {},
   "source": [
    "## Part 1 A\n",
    "\n",
    "The captcha requires you to review a sequence of digits (your puzzle input) and find the sum of all digits that match the next digit in the list. The list is circular, so the digit after the last digit is the first digit in the list.\n",
    "\n",
    "For example:\n",
    "\n",
    "    1122 produces a sum of 3 (1 + 2) because the first digit (1) matches the second digit and the third digit (2) matches the fourth digit.\n",
    "    1111 produces 4 because each digit (all 1) matches the next.\n",
    "    1234 produces 0 because no digit matches the next.\n",
    "    91212129 produces 9 because the only digit that matches the next one is the last digit, 9.\n"
   ]
  },
  {
   "cell_type": "code",
   "execution_count": 20,
   "metadata": {},
   "outputs": [
    {
     "data": {
      "text/plain": [
       "1144"
      ]
     },
     "execution_count": 20,
     "metadata": {},
     "output_type": "execute_result"
    }
   ],
   "source": [
    "def day1_captcha(captcha):\n",
    "    sum = 0\n",
    "    for i in range(len(captcha)):\n",
    "        this_char = captcha[i]\n",
    "        last_char = captcha[i-1]\n",
    "        if this_char == last_char:\n",
    "            sum += int(this_char)\n",
    "    return sum\n",
    "\n",
    "assert day1_captcha(\"1122\") == 3, day1_captcha(\"1122\")\n",
    "assert day1_captcha(\"1111\") == 4, day1_captcha(\"1111\")\n",
    "assert day1_captcha(\"1234\") == 0, day1_captcha(\"1234\")\n",
    "assert day1_captcha(\"91212129\") == 9, day1_captcha(\"91212129\")\n",
    "\n",
    "day1_captcha( parse_input('input_day01a')[0] )"
   ]
  },
  {
   "cell_type": "markdown",
   "metadata": {},
   "source": [
    "## Part 1 B\n",
    "\n",
    "Now, instead of considering the next digit, it wants you to consider the digit halfway around the circular list. That is, if your list contains 10 items, only include a digit in your sum if the digit 10/2 = 5 steps forward matches it. Fortunately, your list has an even number of elements.\n",
    "\n",
    "For example:\n",
    "\n",
    "    1212 produces 6: the list contains 4 items, and all four digits match the digit 2 items ahead.\n",
    "    1221 produces 0, because every comparison is between a 1 and a 2.\n",
    "    123425 produces 4, because both 2s match each other, but no other digit has a match.\n",
    "    123123 produces 12.\n",
    "    12131415 produces 4.\n"
   ]
  },
  {
   "cell_type": "code",
   "execution_count": 15,
   "metadata": {},
   "outputs": [
    {
     "data": {
      "text/plain": [
       "1194"
      ]
     },
     "execution_count": 15,
     "metadata": {},
     "output_type": "execute_result"
    }
   ],
   "source": [
    "def day1_captcha(captcha):\n",
    "    sum = 0\n",
    "    for i in range(len(captcha)):\n",
    "        this_char = captcha[i]\n",
    "        last_char = captcha[i- int(len(captcha)/2) ]\n",
    "        if this_char == last_char:\n",
    "            sum += int(this_char)\n",
    "    return sum\n",
    "\n",
    "assert day1_captcha(\"1212\") == 6, day1_captcha(\"1212\")\n",
    "assert day1_captcha(\"1221\") == 0, day1_captcha(\"1221\")\n",
    "assert day1_captcha(\"123425\") == 4, day1_captcha(\"123425\")\n",
    "assert day1_captcha(\"123123\") == 12, day1_captcha(\"123123\")\n",
    "assert day1_captcha(\"12131415\") == 4, day1_captcha(\"12131415\")\n",
    "\n",
    "day1_captcha( parse_input('input_day01a')[0] )"
   ]
  },
  {
   "cell_type": "markdown",
   "metadata": {},
   "source": [
    "## Part 2A\n",
    "\n",
    "For each row, determine the difference between the largest value and the smallest value; the checksum is the sum of all of these differences.\n",
    "\n",
    "For example, given the following spreadsheet:\n",
    "\n",
    "5 1 9 5\n",
    "7 5 3\n",
    "2 4 6 8\n",
    "\n",
    "    The first row's largest and smallest values are 9 and 1, and their difference is 8.\n",
    "    The second row's largest and smallest values are 7 and 3, and their difference is 4.\n",
    "    The third row's difference is 6.\n",
    "\n",
    "In this example, the spreadsheet's checksum would be 8 + 4 + 6 = 18."
   ]
  },
  {
   "cell_type": "code",
   "execution_count": 45,
   "metadata": {},
   "outputs": [
    {
     "data": {
      "text/plain": [
       "41919"
      ]
     },
     "execution_count": 45,
     "metadata": {},
     "output_type": "execute_result"
    }
   ],
   "source": [
    "def day2_checksum(sheet):\n",
    "    return sum(list(map(lambda line: max(line)-min(line), sheet)))\n",
    "\n",
    "test_checksum = day2_checksum([[5,1,9,5],[7,5,3],[2,4,6,8]])\n",
    "assert test_checksum == 18, test_checksum\n",
    "\n",
    "day2_checksum( parse_input('input_day02a', lambda line: split_integers(line)) )\n"
   ]
  },
  {
   "cell_type": "markdown",
   "metadata": {},
   "source": [
    "## Part 2B\n",
    "\n",
    "It sounds like the goal is to find the only two numbers in each row where one evenly divides the other - that is, where the result of the division operation is a whole number. They would like you to find those numbers on each line, divide them, and add up each line's result.\n",
    "\n",
    "For example, given the following spreadsheet:\n",
    "\n",
    "5 9 2 8\n",
    "9 4 7 3\n",
    "3 8 6 5\n",
    "\n",
    "    In the first row, the only two numbers that evenly divide are 8 and 2; the result of this division is 4.\n",
    "    In the second row, the two numbers are 9 and 3; the result is 3.\n",
    "    In the third row, the result is 2.\n",
    "\n",
    "In this example, the sum of the results would be 4 + 3 + 2 = 9."
   ]
  },
  {
   "cell_type": "code",
   "execution_count": 68,
   "metadata": {},
   "outputs": [
    {
     "data": {
      "text/plain": [
       "303"
      ]
     },
     "execution_count": 68,
     "metadata": {},
     "output_type": "execute_result"
    }
   ],
   "source": [
    "def day2_checksum(sheet):\n",
    "    def calc_line(line):\n",
    "        line = sorted(line)\n",
    "        for i in range(len(line)):\n",
    "            for j in range(i):\n",
    "                if line[i] % line[j] == 0:\n",
    "                    return int(line[i]/line[j])\n",
    "    return sum(list(map(lambda line: calc_line(line), sheet)))\n",
    "\n",
    "test_checksum = day2_checksum([[5,9,2,8],[9,4,7,3],[3,8,6,5]])\n",
    "assert test_checksum == 9, test_checksum\n",
    "\n",
    "day2_checksum( parse_input('input_day02a', lambda line: split_integers(line)) )"
   ]
  },
  {
   "cell_type": "code",
   "execution_count": null,
   "metadata": {},
   "outputs": [],
   "source": []
  }
 ],
 "metadata": {
  "kernelspec": {
   "display_name": "Python 3",
   "language": "python",
   "name": "python3"
  },
  "language_info": {
   "codemirror_mode": {
    "name": "ipython",
    "version": 3
   },
   "file_extension": ".py",
   "mimetype": "text/x-python",
   "name": "python",
   "nbconvert_exporter": "python",
   "pygments_lexer": "ipython3",
   "version": "3.6.3"
  }
 },
 "nbformat": 4,
 "nbformat_minor": 2
}
